{
 "cells": [
  {
   "cell_type": "markdown",
   "source": [
    "## Import main libraries"
   ],
   "metadata": {
    "collapsed": false
   },
   "id": "3d6d6d1b3da11f11"
  },
  {
   "cell_type": "code",
   "outputs": [],
   "source": [
    "import numpy as np\n",
    "import pandas as pd\n",
    "import matplotlib.pyplot as plt\n",
    "from scipy.io import wavfile\n",
    "from IPython.display import Audio, display"
   ],
   "metadata": {
    "collapsed": true,
    "ExecuteTime": {
     "end_time": "2024-05-01T17:08:10.888976900Z",
     "start_time": "2024-05-01T17:08:08.288987200Z"
    }
   },
   "id": "initial_id",
   "execution_count": 1
  },
  {
   "cell_type": "markdown",
   "source": [
    "## Engine"
   ],
   "metadata": {
    "collapsed": false
   },
   "id": "cb8a7548104cfeaa"
  },
  {
   "cell_type": "code",
   "outputs": [],
   "source": [
    "import os\n",
    "import tqdm\n",
    "\n",
    "\n",
    "class Engine(object):\n",
    "    def __init__(self, folder_path):\n",
    "        self.folder_path = folder_path\n",
    "        self.wavs_files = []\n",
    "        self.extract_vocals()\n",
    "        self.wavs_df = pd.DataFrame(self.wavs_files, columns=['filename'])\n",
    "        self.wavs_df.set_index('filename', inplace=True)\n",
    "\n",
    "    def __iterate_wavs(self):\n",
    "\n",
    "        for root, _, files in os.walk(self.folder_path):\n",
    "            for filename in files:\n",
    "                if filename.endswith(\".wav\"):  # Check for WAV extension\n",
    "                    yield os.path.join(filename)  # Yield full path\n",
    "\n",
    "    def extract_vocals(self):\n",
    "        for wav_file in (self.__iterate_wavs()):\n",
    "            # print(f\"Found WAV file: {wav_file}\")\n",
    "            self.wavs_files.append(wav_file)\n",
    "\n",
    "    def classify_files(self):\n",
    "        new_columns = {\n",
    "            'speaker_id': np.empty(len(self.wavs_files), dtype=np.float_),\n",
    "            'speaker_gender': np.empty(len(self.wavs_files), dtype=np.str_),\n",
    "            'speaker_age': np.empty(len(self.wavs_files), dtype=np.float_),\n",
    "            'spoken_word': np.empty(len(self.wavs_files), dtype=np.float_),\n",
    "            'spoken_emotion': np.empty(len(self.wavs_files), dtype=np.float_),\n",
    "            'record_id': np.empty(len(self.wavs_files), dtype=np.str_)\n",
    "        }\n",
    "\n",
    "        # Concatenate along columns (axis=1)\n",
    "        self.wavs_df = pd.concat([self.wavs_df, pd.DataFrame(new_columns)],axis=1)\n",
    "        self.wavs_df = self.wavs_df.iloc[:len(self.wavs_files)]\n",
    "\n",
    "        for wav_file in self.wavs_files:\n",
    "            wav_info = wav_file.split('-')\n",
    "            # print(wav_info)\n",
    "            self.wavs_df.loc[wav_file, :] = wav_info\n",
    "\n",
    "        for idx, value in enumerate(self.wavs_df.loc[:, 'record_id']):\n",
    "            self.wavs_df.iloc[idx, -1] = value.split('.')[0]\n",
    "\n",
    "\n",
    "\n",
    "\n"
   ],
   "metadata": {
    "collapsed": false,
    "ExecuteTime": {
     "end_time": "2024-05-01T17:08:10.944193700Z",
     "start_time": "2024-05-01T17:08:10.888976900Z"
    }
   },
   "id": "873e54ae1a29b102",
   "execution_count": 2
  },
  {
   "cell_type": "markdown",
   "source": [
    "#### Instantiate engine"
   ],
   "metadata": {
    "collapsed": false
   },
   "id": "6096207fbe917d5d"
  },
  {
   "cell_type": "code",
   "outputs": [],
   "source": [
    "folder_path = \"..//Basic-Arabic-Vocal-Emotions-Dataset//\"\n",
    "engine = Engine(folder_path)\n"
   ],
   "metadata": {
    "collapsed": false,
    "ExecuteTime": {
     "end_time": "2024-05-01T17:08:10.999867400Z",
     "start_time": "2024-05-01T17:08:10.918788Z"
    }
   },
   "id": "d792fd30f8d5f13f",
   "execution_count": 3
  },
  {
   "cell_type": "code",
   "outputs": [
    {
     "data": {
      "text/plain": "Empty DataFrame\nColumns: []\nIndex: [0-m-21-0-1-105.wav, 0-m-21-0-2-106.wav, 1-m-20-0-1-107.wav, 10-f-20-0-1-0.wav, 100-f-6-0-0-0.wav]",
      "text/html": "<div>\n<style scoped>\n    .dataframe tbody tr th:only-of-type {\n        vertical-align: middle;\n    }\n\n    .dataframe tbody tr th {\n        vertical-align: top;\n    }\n\n    .dataframe thead th {\n        text-align: right;\n    }\n</style>\n<table border=\"1\" class=\"dataframe\">\n  <thead>\n    <tr style=\"text-align: right;\">\n      <th></th>\n    </tr>\n    <tr>\n      <th>filename</th>\n    </tr>\n  </thead>\n  <tbody>\n    <tr>\n      <th>0-m-21-0-1-105.wav</th>\n    </tr>\n    <tr>\n      <th>0-m-21-0-2-106.wav</th>\n    </tr>\n    <tr>\n      <th>1-m-20-0-1-107.wav</th>\n    </tr>\n    <tr>\n      <th>10-f-20-0-1-0.wav</th>\n    </tr>\n    <tr>\n      <th>100-f-6-0-0-0.wav</th>\n    </tr>\n  </tbody>\n</table>\n</div>"
     },
     "execution_count": 4,
     "metadata": {},
     "output_type": "execute_result"
    }
   ],
   "source": [
    "engine.wavs_df.head()\n"
   ],
   "metadata": {
    "collapsed": false,
    "ExecuteTime": {
     "end_time": "2024-05-01T17:08:11.027906200Z",
     "start_time": "2024-05-01T17:08:10.960542300Z"
    }
   },
   "id": "6edaef6354cccc53",
   "execution_count": 4
  },
  {
   "cell_type": "code",
   "outputs": [],
   "source": [
    "engine.classify_files()"
   ],
   "metadata": {
    "collapsed": false,
    "ExecuteTime": {
     "end_time": "2024-05-01T17:08:11.561379Z",
     "start_time": "2024-05-01T17:08:10.989288400Z"
    }
   },
   "id": "b82ed1459f0e48af",
   "execution_count": 5
  },
  {
   "cell_type": "code",
   "outputs": [],
   "source": [
    "from scipy.fftpack import idct\n",
    "import warnings\n",
    "\n",
    "warnings.filterwarnings(\"ignore\")\n",
    "\n",
    "\n",
    "## Fonctions utiles\n",
    "def Mel2Hz(mel): return 700 * (np.power(10, mel / 2595) - 1)\n",
    "\n",
    "\n",
    "def Hz2Mel(freq): return 2595 * np.log10(1 + freq / 700)\n",
    "\n",
    "\n",
    "def Hz2Ind(freq, fs, Tfft): return (freq * Tfft / fs).astype(int)\n",
    "\n",
    "\n",
    "def hamming(T): return 0.54 - 0.46 * np.cos(2 * np.pi * np.arange(T) / (T - 1))\n",
    "\n",
    "\n",
    "#Réalisation d'un banc de filtres mel\n",
    "def FiltresMel(fs, nf=36, Tfft=512, fmin=100, fmax=8000):\n",
    "    Indices = Hz2Ind(Mel2Hz(np.linspace(Hz2Mel(fmin), Hz2Mel(min(fmax, fs / 2)), nf + 2)), fs, Tfft)\n",
    "    filtres = np.zeros((int(Tfft / 2), nf))\n",
    "    for i in range(nf): filtres[Indices[i]:Indices[i + 2], i] = hamming(Indices[i + 2] - Indices[i])\n",
    "    return filtres\n",
    "\n",
    "\n",
    "#Calcul du spectrogramme\n",
    "def spectrogram(x, T, p, Tfft):\n",
    "    S = []\n",
    "    for i in range(0, len(x) - T, p): S.append(x[i:i + T] * hamming(T))  #windowing \n",
    "    S = np.fft.fft(S, Tfft)  #Fourier transform\n",
    "    return np.abs(S), np.angle(S)  # amplitude and phase spectrum\n",
    "\n",
    "\n",
    "#Calcul des mfcc\n",
    "def mfcc(data, filtres, nc=13, T=256, p=64, Tfft=512):\n",
    "    data = (data[1] - np.mean(data[1])) / np.std(data[1])  #normalize the data\n",
    "    amp, ph = spectrogram(data, T, p, Tfft)\n",
    "    amp_f = np.log10(np.dot(amp[:, :int(Tfft / 2)], filtres) + 1)\n",
    "    return idct(amp_f, n=nc, norm='ortho')\n"
   ],
   "metadata": {
    "collapsed": false,
    "ExecuteTime": {
     "end_time": "2024-05-01T17:08:11.700763500Z",
     "start_time": "2024-05-01T17:08:11.558867900Z"
    }
   },
   "id": "116effedf1ad0619",
   "execution_count": 6
  },
  {
   "cell_type": "code",
   "outputs": [],
   "source": [
    "fs = 8000  #la fréquence d'échantillonage des exemples\n",
    "filtres = FiltresMel(fs)  #réalisation des filtres auditifs"
   ],
   "metadata": {
    "collapsed": false,
    "ExecuteTime": {
     "end_time": "2024-05-01T17:08:11.719078900Z",
     "start_time": "2024-05-01T17:08:11.700763500Z"
    }
   },
   "id": "4875067ce84da8e0",
   "execution_count": 7
  },
  {
   "cell_type": "code",
   "outputs": [],
   "source": [
    "words = ['like', 'didnt like', 'this', 'movie', 'super', 'correct', 'bad']  # pronounced words\n",
    "nc = 100  # number of coefficients to extract with MFCC\n",
    "filtered_audio = []\n",
    "for index, row in engine.wavs_df.iterrows():\n",
    "    filename = (folder_path + row[3] + '\\\\' + index)\n",
    "    filtered_audio.append(mfcc(wavfile.read(filename), filtres, nc=nc))\n",
    "\n"
   ],
   "metadata": {
    "collapsed": false,
    "ExecuteTime": {
     "end_time": "2024-05-01T17:08:57.958700300Z",
     "start_time": "2024-05-01T17:08:11.721122500Z"
    }
   },
   "id": "b32ec6751e251154",
   "execution_count": 8
  },
  {
   "cell_type": "markdown",
   "source": [
    "### Encode gender "
   ],
   "metadata": {
    "collapsed": false
   },
   "id": "686af83c4de8f781"
  },
  {
   "cell_type": "code",
   "outputs": [
    {
     "data": {
      "text/plain": "                   speaker_id  speaker_gender speaker_age spoken_word  \\\n0-m-21-0-1-105.wav          0               1          21           0   \n0-m-21-0-2-106.wav          0               1          21           0   \n1-m-20-0-1-107.wav          1               1          20           0   \n10-f-20-0-1-0.wav          10               0          20           0   \n100-f-6-0-0-0.wav         100               0           6           0   \n\n                   spoken_emotion record_id  \n0-m-21-0-1-105.wav              1       105  \n0-m-21-0-2-106.wav              2       106  \n1-m-20-0-1-107.wav              1       107  \n10-f-20-0-1-0.wav               1         0  \n100-f-6-0-0-0.wav               0         0  ",
      "text/html": "<div>\n<style scoped>\n    .dataframe tbody tr th:only-of-type {\n        vertical-align: middle;\n    }\n\n    .dataframe tbody tr th {\n        vertical-align: top;\n    }\n\n    .dataframe thead th {\n        text-align: right;\n    }\n</style>\n<table border=\"1\" class=\"dataframe\">\n  <thead>\n    <tr style=\"text-align: right;\">\n      <th></th>\n      <th>speaker_id</th>\n      <th>speaker_gender</th>\n      <th>speaker_age</th>\n      <th>spoken_word</th>\n      <th>spoken_emotion</th>\n      <th>record_id</th>\n    </tr>\n  </thead>\n  <tbody>\n    <tr>\n      <th>0-m-21-0-1-105.wav</th>\n      <td>0</td>\n      <td>1</td>\n      <td>21</td>\n      <td>0</td>\n      <td>1</td>\n      <td>105</td>\n    </tr>\n    <tr>\n      <th>0-m-21-0-2-106.wav</th>\n      <td>0</td>\n      <td>1</td>\n      <td>21</td>\n      <td>0</td>\n      <td>2</td>\n      <td>106</td>\n    </tr>\n    <tr>\n      <th>1-m-20-0-1-107.wav</th>\n      <td>1</td>\n      <td>1</td>\n      <td>20</td>\n      <td>0</td>\n      <td>1</td>\n      <td>107</td>\n    </tr>\n    <tr>\n      <th>10-f-20-0-1-0.wav</th>\n      <td>10</td>\n      <td>0</td>\n      <td>20</td>\n      <td>0</td>\n      <td>1</td>\n      <td>0</td>\n    </tr>\n    <tr>\n      <th>100-f-6-0-0-0.wav</th>\n      <td>100</td>\n      <td>0</td>\n      <td>6</td>\n      <td>0</td>\n      <td>0</td>\n      <td>0</td>\n    </tr>\n  </tbody>\n</table>\n</div>"
     },
     "execution_count": 9,
     "metadata": {},
     "output_type": "execute_result"
    }
   ],
   "source": [
    "from sklearn.preprocessing import LabelEncoder\n",
    "\n",
    "encoder = LabelEncoder()\n",
    "engine.wavs_df['speaker_gender'] = encoder.fit_transform(engine.wavs_df['speaker_gender'])\n",
    "engine.wavs_df.head()"
   ],
   "metadata": {
    "collapsed": false,
    "ExecuteTime": {
     "end_time": "2024-05-01T17:09:00.172969100Z",
     "start_time": "2024-05-01T17:08:57.961001900Z"
    }
   },
   "id": "1290e49d1eaf0d20",
   "execution_count": 9
  },
  {
   "cell_type": "code",
   "outputs": [
    {
     "data": {
      "text/plain": "                     speaker_id speaker_age record_id  speaker_gender_0  \\\n0-m-21-0-1-105.wav            0          21       105                 0   \n0-m-21-0-2-106.wav            0          21       106                 0   \n1-m-20-0-1-107.wav            1          20       107                 0   \n10-f-20-0-1-0.wav            10          20         0                 1   \n100-f-6-0-0-0.wav           100           6         0                 1   \n...                         ...         ...       ...               ...   \n56-f-40-6-2-1695.wav         56          40      1695                 1   \n6-m-21-6-0-1848.wav           6          21      1848                 0   \n7-m-22-6-0-1849.wav           7          22      1849                 0   \n8-m-18-6-2-1850.wav           8          18      1850                 0   \n9-f-20-6-1-1696.wav           9          20      1696                 1   \n\n                      speaker_gender_1  spoken_emotion_0  spoken_emotion_1  \\\n0-m-21-0-1-105.wav                   1                 0                 1   \n0-m-21-0-2-106.wav                   1                 0                 0   \n1-m-20-0-1-107.wav                   1                 0                 1   \n10-f-20-0-1-0.wav                    0                 0                 1   \n100-f-6-0-0-0.wav                    0                 1                 0   \n...                                ...               ...               ...   \n56-f-40-6-2-1695.wav                 0                 0                 0   \n6-m-21-6-0-1848.wav                  1                 1                 0   \n7-m-22-6-0-1849.wav                  1                 1                 0   \n8-m-18-6-2-1850.wav                  1                 0                 0   \n9-f-20-6-1-1696.wav                  0                 0                 1   \n\n                      spoken_emotion_2  spoken_word_0  spoken_word_1  \\\n0-m-21-0-1-105.wav                   0              1              0   \n0-m-21-0-2-106.wav                   1              1              0   \n1-m-20-0-1-107.wav                   0              1              0   \n10-f-20-0-1-0.wav                    0              1              0   \n100-f-6-0-0-0.wav                    0              1              0   \n...                                ...            ...            ...   \n56-f-40-6-2-1695.wav                 1              0              0   \n6-m-21-6-0-1848.wav                  0              0              0   \n7-m-22-6-0-1849.wav                  0              0              0   \n8-m-18-6-2-1850.wav                  1              0              0   \n9-f-20-6-1-1696.wav                  0              0              0   \n\n                      spoken_word_2  spoken_word_3  spoken_word_4  \\\n0-m-21-0-1-105.wav                0              0              0   \n0-m-21-0-2-106.wav                0              0              0   \n1-m-20-0-1-107.wav                0              0              0   \n10-f-20-0-1-0.wav                 0              0              0   \n100-f-6-0-0-0.wav                 0              0              0   \n...                             ...            ...            ...   \n56-f-40-6-2-1695.wav              0              0              0   \n6-m-21-6-0-1848.wav               0              0              0   \n7-m-22-6-0-1849.wav               0              0              0   \n8-m-18-6-2-1850.wav               0              0              0   \n9-f-20-6-1-1696.wav               0              0              0   \n\n                      spoken_word_5  spoken_word_6  \n0-m-21-0-1-105.wav                0              0  \n0-m-21-0-2-106.wav                0              0  \n1-m-20-0-1-107.wav                0              0  \n10-f-20-0-1-0.wav                 0              0  \n100-f-6-0-0-0.wav                 0              0  \n...                             ...            ...  \n56-f-40-6-2-1695.wav              0              1  \n6-m-21-6-0-1848.wav               0              1  \n7-m-22-6-0-1849.wav               0              1  \n8-m-18-6-2-1850.wav               0              1  \n9-f-20-6-1-1696.wav               0              1  \n\n[1935 rows x 15 columns]",
      "text/html": "<div>\n<style scoped>\n    .dataframe tbody tr th:only-of-type {\n        vertical-align: middle;\n    }\n\n    .dataframe tbody tr th {\n        vertical-align: top;\n    }\n\n    .dataframe thead th {\n        text-align: right;\n    }\n</style>\n<table border=\"1\" class=\"dataframe\">\n  <thead>\n    <tr style=\"text-align: right;\">\n      <th></th>\n      <th>speaker_id</th>\n      <th>speaker_age</th>\n      <th>record_id</th>\n      <th>speaker_gender_0</th>\n      <th>speaker_gender_1</th>\n      <th>spoken_emotion_0</th>\n      <th>spoken_emotion_1</th>\n      <th>spoken_emotion_2</th>\n      <th>spoken_word_0</th>\n      <th>spoken_word_1</th>\n      <th>spoken_word_2</th>\n      <th>spoken_word_3</th>\n      <th>spoken_word_4</th>\n      <th>spoken_word_5</th>\n      <th>spoken_word_6</th>\n    </tr>\n  </thead>\n  <tbody>\n    <tr>\n      <th>0-m-21-0-1-105.wav</th>\n      <td>0</td>\n      <td>21</td>\n      <td>105</td>\n      <td>0</td>\n      <td>1</td>\n      <td>0</td>\n      <td>1</td>\n      <td>0</td>\n      <td>1</td>\n      <td>0</td>\n      <td>0</td>\n      <td>0</td>\n      <td>0</td>\n      <td>0</td>\n      <td>0</td>\n    </tr>\n    <tr>\n      <th>0-m-21-0-2-106.wav</th>\n      <td>0</td>\n      <td>21</td>\n      <td>106</td>\n      <td>0</td>\n      <td>1</td>\n      <td>0</td>\n      <td>0</td>\n      <td>1</td>\n      <td>1</td>\n      <td>0</td>\n      <td>0</td>\n      <td>0</td>\n      <td>0</td>\n      <td>0</td>\n      <td>0</td>\n    </tr>\n    <tr>\n      <th>1-m-20-0-1-107.wav</th>\n      <td>1</td>\n      <td>20</td>\n      <td>107</td>\n      <td>0</td>\n      <td>1</td>\n      <td>0</td>\n      <td>1</td>\n      <td>0</td>\n      <td>1</td>\n      <td>0</td>\n      <td>0</td>\n      <td>0</td>\n      <td>0</td>\n      <td>0</td>\n      <td>0</td>\n    </tr>\n    <tr>\n      <th>10-f-20-0-1-0.wav</th>\n      <td>10</td>\n      <td>20</td>\n      <td>0</td>\n      <td>1</td>\n      <td>0</td>\n      <td>0</td>\n      <td>1</td>\n      <td>0</td>\n      <td>1</td>\n      <td>0</td>\n      <td>0</td>\n      <td>0</td>\n      <td>0</td>\n      <td>0</td>\n      <td>0</td>\n    </tr>\n    <tr>\n      <th>100-f-6-0-0-0.wav</th>\n      <td>100</td>\n      <td>6</td>\n      <td>0</td>\n      <td>1</td>\n      <td>0</td>\n      <td>1</td>\n      <td>0</td>\n      <td>0</td>\n      <td>1</td>\n      <td>0</td>\n      <td>0</td>\n      <td>0</td>\n      <td>0</td>\n      <td>0</td>\n      <td>0</td>\n    </tr>\n    <tr>\n      <th>...</th>\n      <td>...</td>\n      <td>...</td>\n      <td>...</td>\n      <td>...</td>\n      <td>...</td>\n      <td>...</td>\n      <td>...</td>\n      <td>...</td>\n      <td>...</td>\n      <td>...</td>\n      <td>...</td>\n      <td>...</td>\n      <td>...</td>\n      <td>...</td>\n      <td>...</td>\n    </tr>\n    <tr>\n      <th>56-f-40-6-2-1695.wav</th>\n      <td>56</td>\n      <td>40</td>\n      <td>1695</td>\n      <td>1</td>\n      <td>0</td>\n      <td>0</td>\n      <td>0</td>\n      <td>1</td>\n      <td>0</td>\n      <td>0</td>\n      <td>0</td>\n      <td>0</td>\n      <td>0</td>\n      <td>0</td>\n      <td>1</td>\n    </tr>\n    <tr>\n      <th>6-m-21-6-0-1848.wav</th>\n      <td>6</td>\n      <td>21</td>\n      <td>1848</td>\n      <td>0</td>\n      <td>1</td>\n      <td>1</td>\n      <td>0</td>\n      <td>0</td>\n      <td>0</td>\n      <td>0</td>\n      <td>0</td>\n      <td>0</td>\n      <td>0</td>\n      <td>0</td>\n      <td>1</td>\n    </tr>\n    <tr>\n      <th>7-m-22-6-0-1849.wav</th>\n      <td>7</td>\n      <td>22</td>\n      <td>1849</td>\n      <td>0</td>\n      <td>1</td>\n      <td>1</td>\n      <td>0</td>\n      <td>0</td>\n      <td>0</td>\n      <td>0</td>\n      <td>0</td>\n      <td>0</td>\n      <td>0</td>\n      <td>0</td>\n      <td>1</td>\n    </tr>\n    <tr>\n      <th>8-m-18-6-2-1850.wav</th>\n      <td>8</td>\n      <td>18</td>\n      <td>1850</td>\n      <td>0</td>\n      <td>1</td>\n      <td>0</td>\n      <td>0</td>\n      <td>1</td>\n      <td>0</td>\n      <td>0</td>\n      <td>0</td>\n      <td>0</td>\n      <td>0</td>\n      <td>0</td>\n      <td>1</td>\n    </tr>\n    <tr>\n      <th>9-f-20-6-1-1696.wav</th>\n      <td>9</td>\n      <td>20</td>\n      <td>1696</td>\n      <td>1</td>\n      <td>0</td>\n      <td>0</td>\n      <td>1</td>\n      <td>0</td>\n      <td>0</td>\n      <td>0</td>\n      <td>0</td>\n      <td>0</td>\n      <td>0</td>\n      <td>0</td>\n      <td>1</td>\n    </tr>\n  </tbody>\n</table>\n<p>1935 rows × 15 columns</p>\n</div>"
     },
     "execution_count": 10,
     "metadata": {},
     "output_type": "execute_result"
    }
   ],
   "source": [
    "coded_df = pd.get_dummies(data=engine.wavs_df, columns=['speaker_gender', 'spoken_emotion','spoken_word'])\n",
    "coded_df"
   ],
   "metadata": {
    "collapsed": false,
    "ExecuteTime": {
     "end_time": "2024-05-01T17:09:00.226202800Z",
     "start_time": "2024-05-01T17:09:00.169602400Z"
    }
   },
   "id": "88f9737eba457e40",
   "execution_count": 10
  },
  {
   "cell_type": "code",
   "outputs": [],
   "source": [
    "target = coded_df[['spoken_emotion_0','spoken_emotion_1','spoken_emotion_2']]"
   ],
   "metadata": {
    "collapsed": false,
    "ExecuteTime": {
     "end_time": "2024-05-01T17:09:00.266056Z",
     "start_time": "2024-05-01T17:09:00.199899900Z"
    }
   },
   "id": "deaf45c9e0054d2e",
   "execution_count": 11
  },
  {
   "cell_type": "markdown",
   "source": [
    "# Extract audio files and apply mfcc"
   ],
   "metadata": {
    "collapsed": false
   },
   "id": "71675ca039a90c02"
  },
  {
   "cell_type": "markdown",
   "source": [
    "# Get max shape "
   ],
   "metadata": {
    "collapsed": false
   },
   "id": "3b3bafc8b0f6969b"
  },
  {
   "cell_type": "code",
   "outputs": [],
   "source": [
    "\n",
    "def get_max_shape(array):\n",
    "    max_shape = 0\n",
    "    for value in array:\n",
    "        if value.shape[0] > max_shape:\n",
    "            max_shape = value.shape[0]\n",
    "    return max_shape\n",
    "\n",
    "\n",
    "max_shape = get_max_shape(filtered_audio)"
   ],
   "metadata": {
    "collapsed": false,
    "ExecuteTime": {
     "end_time": "2024-05-01T17:09:00.325464Z",
     "start_time": "2024-05-01T17:09:00.217399400Z"
    }
   },
   "id": "f8c4ec7849064757",
   "execution_count": 12
  },
  {
   "cell_type": "markdown",
   "source": [
    "# Zero padding (post_padding)"
   ],
   "metadata": {
    "collapsed": false
   },
   "id": "4810f90a9ce01c3d"
  },
  {
   "cell_type": "code",
   "outputs": [],
   "source": [
    "def post_padding(array, max_shape):\n",
    "    new_array = (array)\n",
    "    for idx, value in enumerate(array):\n",
    "        shape0 = (value.shape)[0]\n",
    "        pad0 = np.zeros((max_shape - shape0, nc))\n",
    "        new_array[idx] = np.concatenate((value, pad0))\n",
    "\n",
    "    return new_array\n",
    "\n",
    "\n",
    "post_padding_audios = post_padding(filtered_audio, max_shape)"
   ],
   "metadata": {
    "collapsed": false,
    "ExecuteTime": {
     "end_time": "2024-05-01T17:09:01.672076800Z",
     "start_time": "2024-05-01T17:09:00.235009400Z"
    }
   },
   "id": "7db473ed619b772b",
   "execution_count": 13
  },
  {
   "cell_type": "code",
   "outputs": [
    {
     "data": {
      "text/plain": "(1935, 1276, 100)"
     },
     "execution_count": 14,
     "metadata": {},
     "output_type": "execute_result"
    }
   ],
   "source": [
    "post_padding_audios = np.array(post_padding_audios)\n",
    "post_padding_audios.shape  # 1935 files with 1276,nc shape"
   ],
   "metadata": {
    "collapsed": false,
    "ExecuteTime": {
     "end_time": "2024-05-01T17:09:02.449728600Z",
     "start_time": "2024-05-01T17:09:01.663285700Z"
    }
   },
   "id": "425816a551638eef",
   "execution_count": 14
  },
  {
   "cell_type": "markdown",
   "source": [
    "# Zero padding (pre_padding)"
   ],
   "metadata": {
    "collapsed": false
   },
   "id": "172e4345326fcd13"
  },
  {
   "cell_type": "code",
   "outputs": [],
   "source": [
    "def pre_padding(array, max_shape):\n",
    "    new_array = (array)\n",
    "    for idx, value in enumerate(array):\n",
    "        shape0 = (value.shape)[0]\n",
    "        pad0 = np.zeros((max_shape - shape0, nc))\n",
    "        new_array[idx] = np.concatenate((pad0, value))\n",
    "\n",
    "    return new_array\n",
    "\n",
    "\n",
    "pre_padding_audios = pre_padding(filtered_audio, max_shape)"
   ],
   "metadata": {
    "collapsed": false,
    "ExecuteTime": {
     "end_time": "2024-05-01T17:09:02.928731200Z",
     "start_time": "2024-05-01T17:09:02.453016700Z"
    }
   },
   "id": "6e053a29d9408a08",
   "execution_count": 15
  },
  {
   "cell_type": "code",
   "outputs": [
    {
     "data": {
      "text/plain": "(1935, 1276, 100)"
     },
     "execution_count": 16,
     "metadata": {},
     "output_type": "execute_result"
    }
   ],
   "source": [
    "pre_padding_audios = np.array(pre_padding_audios)\n",
    "pre_padding_audios.shape  # 1935 files with 1276,nc shape"
   ],
   "metadata": {
    "collapsed": false,
    "ExecuteTime": {
     "end_time": "2024-05-01T17:09:03.896170800Z",
     "start_time": "2024-05-01T17:09:02.921957900Z"
    }
   },
   "id": "7aeb6e60e823b725",
   "execution_count": 16
  },
  {
   "cell_type": "markdown",
   "source": [
    "# Notice \n",
    "I noticed that there is **no difference** whether using **pre padding** or **post padding**"
   ],
   "metadata": {
    "collapsed": false
   },
   "id": "ffc7dcbb6a12c5a9"
  },
  {
   "cell_type": "code",
   "outputs": [
    {
     "data": {
      "text/plain": "((1935, 1276, 100), (1935, 3))"
     },
     "execution_count": 51,
     "metadata": {},
     "output_type": "execute_result"
    }
   ],
   "source": [
    "X = post_padding_audios\n",
    "y = target\n",
    "X.shape, y.shape\n"
   ],
   "metadata": {
    "collapsed": false,
    "ExecuteTime": {
     "end_time": "2024-05-01T17:10:18.327739600Z",
     "start_time": "2024-05-01T17:10:18.202934400Z"
    }
   },
   "id": "30ca311b7ebdfaff",
   "execution_count": 51
  },
  {
   "cell_type": "code",
   "outputs": [],
   "source": [
    "from sklearn.preprocessing import StandardScaler\n",
    "\n",
    "data = np.array(X)  # Replace with your actual data\n",
    "\n",
    "# Reshape the data to 2D for standardization (samples, features)\n",
    "reshaped_data = data.reshape(data.shape[0], -1)  # -1 flattens the remaining dimensions\n",
    "\n",
    "scaler = StandardScaler()\n",
    "scaler.fit(reshaped_data)\n",
    "\n",
    "scaled_X = scaler.transform(reshaped_data)\n",
    "\n",
    "# Reshape the scaled data back to the original 3D shape\n",
    "scaled_X = scaled_X.reshape(data.shape)"
   ],
   "metadata": {
    "collapsed": false,
    "ExecuteTime": {
     "end_time": "2024-05-01T17:20:16.648082300Z",
     "start_time": "2024-05-01T17:20:08.010891700Z"
    }
   },
   "id": "4c9c3851d19b0e5e",
   "execution_count": 212
  },
  {
   "cell_type": "code",
   "outputs": [
    {
     "data": {
      "text/plain": "(1935, 1276, 100)"
     },
     "execution_count": 213,
     "metadata": {},
     "output_type": "execute_result"
    }
   ],
   "source": [
    "scaled_X.shape"
   ],
   "metadata": {
    "collapsed": false,
    "ExecuteTime": {
     "end_time": "2024-05-01T17:20:16.664360500Z",
     "start_time": "2024-05-01T17:20:16.654781800Z"
    }
   },
   "id": "bcd7280c1a348bcb",
   "execution_count": 213
  },
  {
   "cell_type": "markdown",
   "source": [
    "**I didn't notice an improvement using the scaled version so i didn't use it** "
   ],
   "metadata": {
    "collapsed": false
   },
   "id": "4ffe82a90ad1ee23"
  },
  {
   "cell_type": "markdown",
   "source": [
    "# Data split"
   ],
   "metadata": {
    "collapsed": false
   },
   "id": "aa7f1d781e56085c"
  },
  {
   "cell_type": "code",
   "outputs": [],
   "source": [
    "from sklearn.model_selection import train_test_split\n",
    "import tensorflow as tf\n",
    "\n",
    "physical_devices = tf.config.list_physical_devices('GPU')\n",
    "tf.config.experimental.set_memory_growth(physical_devices[0], True)\n",
    "\n"
   ],
   "metadata": {
    "collapsed": false,
    "ExecuteTime": {
     "end_time": "2024-05-01T17:20:16.866939700Z",
     "start_time": "2024-05-01T17:20:16.858840800Z"
    }
   },
   "id": "5252ad707fb24b45",
   "execution_count": 215
  },
  {
   "cell_type": "markdown",
   "source": [
    "# 1D Model\n",
    "I prefered using Conv1D for MFCC data. Here's why:\n",
    "\n",
    "* MFCC Shape: MFCC data, by its nature, represents features extracted over time. It typically has two dimensions:\n",
    "\n",
    "    * Number of Mel-frequency cepstral coefficients (MFCCs): This captures the spectral content of the audio.\n",
    "    * Time steps: This represents the sequence of these features over time.\n",
    "* Conv1D for Sequences: Convolutional 1D layers are specifically designed to operate on **one-dimensional sequences like time series data**. They   learn filters that can identify patterns within these sequences.\n",
    "\n",
    "* Conv2D for 2D Data: Convolutional 2D layers, on the other hand, are suited for **two-dimensional data like images**. They use filters that operate on a height and width dimension to extract features from spatial patterns.\n",
    "\n",
    "In essence, MFCC data lacks a spatial dimension like an image. It only has features across time steps. Conv1D filters can effectively **slide along this time dimension**, capturing temporal features in the audio signal."
   ],
   "metadata": {
    "collapsed": false
   },
   "id": "e4408b5e9be728f7"
  },
  {
   "cell_type": "markdown",
   "source": [
    "# Summary :\n",
    "### Model Conv1D : \n",
    "#### Architecture :\n",
    "Conv1D(32, (3)) -> MaxPool(2) -> Conv1D(64, (3)) -> MaxPool(2) -> Dropout(0.3) -> Conv1D(64, (3)) -> MaxPool(2) -> Dropout(0.3)  -> Flatten() -> FC(512) -> Dropout(0.6) -> FC(len(target))\n",
    "#### Hyperparameters :\n",
    "Optimizer : adam, lr : 0.001 (decay= 0.95), lossFunction : CategoricalCrossentropy(), batch_size=64, epochs=80"
   ],
   "metadata": {
    "collapsed": false
   },
   "id": "604a0d666dcda5bd"
  },
  {
   "cell_type": "code",
   "outputs": [],
   "source": [
    "X_train, X_holdout, y_train, y_holdout = train_test_split(X, y, test_size=0.3, random_state=42)\n",
    "X_val, X_test, y_val, y_test = train_test_split(X_holdout, y_holdout, test_size=0.5, random_state=42)\n",
    "\n"
   ],
   "metadata": {
    "collapsed": false,
    "ExecuteTime": {
     "end_time": "2024-05-01T17:24:53.573749500Z",
     "start_time": "2024-05-01T17:24:48.751561400Z"
    }
   },
   "id": "97465a597184a57e",
   "execution_count": 305
  },
  {
   "cell_type": "code",
   "outputs": [],
   "source": [
    "# with tf.device('/cpu:0'):\n",
    "#     X_train = tf.expand_dims(X_train, axis=-1)\n",
    "#     X_test = tf.expand_dims(X_test, axis=-1)"
   ],
   "metadata": {
    "collapsed": false,
    "ExecuteTime": {
     "end_time": "2024-05-01T17:24:53.590820400Z",
     "start_time": "2024-05-01T17:24:53.575750100Z"
    }
   },
   "id": "248eae03edf2d9f7",
   "execution_count": 306
  },
  {
   "cell_type": "code",
   "outputs": [
    {
     "data": {
      "text/plain": "(1354, 1276, 100)"
     },
     "execution_count": 307,
     "metadata": {},
     "output_type": "execute_result"
    }
   ],
   "source": [
    "X_train.shape"
   ],
   "metadata": {
    "collapsed": false,
    "ExecuteTime": {
     "end_time": "2024-05-01T17:24:53.641620700Z",
     "start_time": "2024-05-01T17:24:53.590820400Z"
    }
   },
   "id": "bc019e61f0b46ad0",
   "execution_count": 307
  },
  {
   "cell_type": "code",
   "outputs": [],
   "source": [
    "CNN_model1D = tf.keras.Sequential([\n",
    "    tf.keras.layers.Conv1D(32, (3), activation='relu', input_shape=( X_train.shape[1],X_train.shape[2]),\n",
    "                       kernel_regularizer=tf.keras.regularizers.L2(1e-6)),  # Input layer with channel dimension\n",
    "    tf.keras.layers.MaxPooling1D((2)),\n",
    "    tf.keras.layers.Conv1D(64, (3), activation='relu',kernel_regularizer=tf.keras.regularizers.L2(1e-6)),  # Input layer with channel dimension\n",
    "    tf.keras.layers.MaxPooling1D((2)),\n",
    "    tf.keras.layers.Dropout(0.3),\n",
    "    tf.keras.layers.Conv1D(128, (3), activation='relu',kernel_regularizer=tf.keras.regularizers.L2(1e-6)),  # Input layer with channel dimension\n",
    "    tf.keras.layers.MaxPooling1D((2)),\n",
    "    tf.keras.layers.Dropout(0.3),\n",
    "    \n",
    "    tf.keras.layers.Flatten(),  # Flatten before dense layers\n",
    "    tf.keras.layers.Dense(512, activation='relu'),\n",
    "    tf.keras.layers.Dropout(0.3),\n",
    "    tf.keras.layers.Dense(units=target.shape[1], activation='softmax')\n",
    "])"
   ],
   "metadata": {
    "collapsed": false,
    "ExecuteTime": {
     "end_time": "2024-05-01T17:26:42.368101Z",
     "start_time": "2024-05-01T17:26:42.266460800Z"
    }
   },
   "id": "2fdbb5d777d72fbd",
   "execution_count": 329
  },
  {
   "cell_type": "code",
   "outputs": [],
   "source": [
    "CNN_model1D.compile(optimizer=tf.keras.optimizers.Adam(learning_rate=0.001),  # Adjust learning rate as needed\n",
    "                  loss=tf.keras.losses.CategoricalCrossentropy(),\n",
    "                  metrics=['accuracy'])"
   ],
   "metadata": {
    "collapsed": false,
    "ExecuteTime": {
     "end_time": "2024-05-01T17:26:42.417383200Z",
     "start_time": "2024-05-01T17:26:42.370481200Z"
    }
   },
   "id": "23c4c035dac45fb8",
   "execution_count": 330
  },
  {
   "cell_type": "code",
   "outputs": [],
   "source": [
    "from tensorflow.keras.callbacks import EarlyStopping\n",
    "\n",
    "# Define the EarlyStopping callback\n",
    "early_stopping = EarlyStopping(monitor='val_accuracy', patience=3, min_delta=0.001)\n",
    "def lr_schedule(epoch, lr):\n",
    "  decay_rate = 0.9  # Learning rate decay rate\n",
    "  return lr * decay_rate\n",
    "\n",
    "learning_rate_scheduler = tf.keras.callbacks.LearningRateScheduler(lr_schedule)\n"
   ],
   "metadata": {
    "collapsed": false,
    "ExecuteTime": {
     "end_time": "2024-05-01T17:26:42.433601900Z",
     "start_time": "2024-05-01T17:26:42.390201600Z"
    }
   },
   "id": "3fb4c9a0a190aa02",
   "execution_count": 331
  },
  {
   "cell_type": "code",
   "outputs": [
    {
     "name": "stdout",
     "output_type": "stream",
     "text": [
      "Epoch 1/5\n",
      "43/43 [==============================] - 1s 19ms/step - loss: 0.1000 - accuracy: 0.9749 - val_loss: 0.6749 - val_accuracy: 0.7586 - lr: 1.3303e-05\n",
      "Epoch 2/5\n",
      "43/43 [==============================] - 1s 12ms/step - loss: 0.0994 - accuracy: 0.9734 - val_loss: 0.6779 - val_accuracy: 0.7552 - lr: 1.1973e-05\n",
      "Epoch 3/5\n",
      "43/43 [==============================] - 1s 12ms/step - loss: 0.0990 - accuracy: 0.9764 - val_loss: 0.6792 - val_accuracy: 0.7621 - lr: 1.0775e-05\n",
      "Epoch 4/5\n",
      "43/43 [==============================] - 1s 12ms/step - loss: 0.0913 - accuracy: 0.9823 - val_loss: 0.6809 - val_accuracy: 0.7483 - lr: 9.6977e-06\n",
      "Epoch 5/5\n",
      "43/43 [==============================] - 1s 12ms/step - loss: 0.0996 - accuracy: 0.9727 - val_loss: 0.6824 - val_accuracy: 0.7552 - lr: 8.7280e-06\n"
     ]
    }
   ],
   "source": [
    "with tf.device('/GPU:0'):\n",
    "    CNN_model1D.fit(X_train, y_train, batch_size=32, epochs=30,callbacks=[learning_rate_scheduler], validation_data=(X_val, y_val))"
   ],
   "metadata": {
    "collapsed": false,
    "ExecuteTime": {
     "end_time": "2024-05-01T17:27:48.984527400Z",
     "start_time": "2024-05-01T17:27:45.434311700Z"
    }
   },
   "id": "1e34dd06a774a485",
   "execution_count": 376
  },
  {
   "cell_type": "code",
   "outputs": [
    {
     "name": "stdout",
     "output_type": "stream",
     "text": [
      "10/10 [==============================] - 0s 32ms/step - loss: 0.7364 - accuracy: 0.7629\n"
     ]
    },
    {
     "data": {
      "text/plain": "(291, 3)"
     },
     "execution_count": 371,
     "metadata": {},
     "output_type": "execute_result"
    }
   ],
   "source": [
    "CNN_model1D.evaluate(X_test, y_test)\n",
    "y_test.shape"
   ],
   "metadata": {
    "collapsed": false,
    "ExecuteTime": {
     "end_time": "2024-05-01T17:27:18.480222800Z",
     "start_time": "2024-05-01T17:27:17.928082400Z"
    }
   },
   "id": "c046aee3854609df",
   "execution_count": 371
  },
  {
   "cell_type": "code",
   "outputs": [],
   "source": [
    "# CNN_model1D.save('1DCnnModel--78.69%')  "
   ],
   "metadata": {
    "collapsed": false,
    "ExecuteTime": {
     "end_time": "2024-05-01T17:27:08.841563200Z",
     "start_time": "2024-05-01T17:27:08.815234Z"
    }
   },
   "id": "e998ea49211e323c",
   "execution_count": 361
  },
  {
   "cell_type": "markdown",
   "source": [
    "78.69% : this was the best score i got with this architecture \n",
    "\n",
    "    tf.keras.layers.Conv1D(32, (3), activation='relu', input_shape=( X_train.shape[1],X_train.shape[2]),\n",
    "                           kernel_regularizer=tf.keras.regularizers.L2(1e-6)),  # Input layer with channel dimension\n",
    "    tf.keras.layers.MaxPooling1D((2)),\n",
    "    tf.keras.layers.Conv1D(64, (3), activation='relu',kernel_regularizer=tf.keras.regularizers.L2(1e-6)),  # Input layer with channel dimension\n",
    "    tf.keras.layers.MaxPooling1D((2)),\n",
    "    tf.keras.layers.Dropout(0.3),\n",
    "    tf.keras.layers.Conv1D(128, (3), activation='relu',kernel_regularizer=tf.keras.regularizers.L2(1e-6)),  # Input layer with channel dimension\n",
    "    tf.keras.layers.MaxPooling1D((2)),\n",
    "    tf.keras.layers.Dropout(0.3),\n",
    "\n",
    "    tf.keras.layers.Flatten(),  # Flatten before dense layers\n",
    "    tf.keras.layers.Dense(512, activation='relu'),\n",
    "    tf.keras.layers.Dropout(0.3),\n",
    "    tf.keras.layers.Dense(units=target.shape[1], activation='softmax')\n"
   ],
   "metadata": {
    "collapsed": false
   },
   "id": "a3d9c562fa1c0dc3"
  },
  {
   "cell_type": "code",
   "outputs": [
    {
     "data": {
      "image/png": "[encoded data removed]",
      "text/plain": "<IPython.core.display.Image object>"
     },
     "execution_count": 362,
     "metadata": {},
     "output_type": "execute_result"
    }
   ],
   "source": [
    "from tensorflow.keras.utils import plot_model\n",
    "\n",
    "plot_model(CNN_model1D, show_shapes=True, show_layer_names=True, show_dtype=True)"
   ],
   "metadata": {
    "collapsed": false,
    "ExecuteTime": {
     "end_time": "2024-05-01T17:27:09.005446800Z",
     "start_time": "2024-05-01T17:27:08.830239300Z"
    }
   },
   "id": "62b151cb415384a9",
   "execution_count": 362
  },
  {
   "cell_type": "markdown",
   "source": [
    "# 2D Model"
   ],
   "metadata": {
    "collapsed": false
   },
   "id": "1369e9d5f7886de5"
  },
  {
   "cell_type": "code",
   "outputs": [],
   "source": [
    "# X2_train, X2_holdout, y2_train, y2_holdout = train_test_split(X, y, test_size=0.2, random_state=42)\n",
    "# X2_val, X2_test, y2_val, y2_test = train_test_split(X2_holdout, y2_holdout, test_size=0.4, random_state=42)\n"
   ],
   "metadata": {
    "collapsed": false,
    "ExecuteTime": {
     "end_time": "2024-05-01T17:27:09.053530Z",
     "start_time": "2024-05-01T17:27:09.003346500Z"
    }
   },
   "id": "10c2aaccc266ad1a",
   "execution_count": 363
  },
  {
   "cell_type": "code",
   "outputs": [],
   "source": [
    "# with tf.device('/cpu:0'):\n",
    "#     X2_train = tf.expand_dims(X2_train, axis=-1)\n",
    "#     X2_test = tf.expand_dims(X2_test, axis=-1)\n"
   ],
   "metadata": {
    "collapsed": false,
    "ExecuteTime": {
     "end_time": "2024-05-01T17:27:09.054569200Z",
     "start_time": "2024-05-01T17:27:09.018334400Z"
    }
   },
   "id": "d658985ba31ae66d",
   "execution_count": 364
  },
  {
   "cell_type": "markdown",
   "source": [
    "# Summary :\n",
    "### Model Conv2D : \n",
    "#### Architecture :\n",
    "Conv2D(32, (9, 9)) -> MaxPool(2,2) -> Conv2D(64, (7, 7)) -> MaxPool(2,2) -> Dropout(0.3) -> Conv2D(128, (5, 5)) -> MaxPool(2,2) -> Dropout(0.3) -> Flatten() -> FC(512) -> Dropout(0.6) -> FC(len(target))\n",
    "#### Hyperparameters :\n",
    "Optimizer : adam, lr : 0.001 (decay= 0.9), lossFunction : CategoricalCrossentropy(), batch_size=32, epochs=20"
   ],
   "metadata": {
    "collapsed": false
   },
   "id": "701a385081264789"
  },
  {
   "cell_type": "code",
   "outputs": [],
   "source": [
    "# CNN2D_model = tf.keras.Sequential([\n",
    "#     tf.keras.layers.Conv2D(32, (9, 9), activation='relu', input_shape=(max_shape, nc, 1),\n",
    "#                            kernel_regularizer=tf.keras.regularizers.L2(1e-6)),  # Input layer with channel dimension\n",
    "#     tf.keras.layers.MaxPooling2D((3, 3)),\n",
    "# \n",
    "#     tf.keras.layers.Conv2D(64, (7, 7), activation='relu',kernel_regularizer=tf.keras.regularizers.L2(1e-6)),  # Input layer with channel dimension\n",
    "#     tf.keras.layers.MaxPooling2D((3, 3)),\n",
    "#     tf.keras.layers.Dropout(0.2),\n",
    "#     tf.keras.layers.Conv2D(128, (5, 5), activation='relu',kernel_regularizer=tf.keras.regularizers.L2(1e-6)),  # Input layer with channel dimension\n",
    "#     tf.keras.layers.MaxPooling2D((3, 3)),\n",
    "#     tf.keras.layers.Dropout(0.2),\n",
    "# \n",
    "#     # Add more convolutional and pooling layers as needed\n",
    "#     tf.keras.layers.Flatten(),  # Flatten before dense layers\n",
    "#     # tf.keras.layers.Dense(1024, activation='relu'),\n",
    "#     tf.keras.layers.Dense(512, activation='relu'),\n",
    "#     # tf.keras.layers.Dense(256, activation='relu'),\n",
    "#     tf.keras.layers.Dropout(0.6),\n",
    "#     tf.keras.layers.Dense(units=target.shape[1], activation='softmax')\n",
    "# ])\n",
    "# \n",
    "# \n"
   ],
   "metadata": {
    "collapsed": false,
    "ExecuteTime": {
     "end_time": "2024-05-01T17:27:09.075480700Z",
     "start_time": "2024-05-01T17:27:09.035848700Z"
    }
   },
   "id": "463d337c654baaf",
   "execution_count": 365
  },
  {
   "cell_type": "code",
   "outputs": [],
   "source": [
    "# CNN2D_model.compile(optimizer=tf.keras.optimizers.Adam(learning_rate=0.001),  # Adjust learning rate as needed\n",
    "#                   loss=tf.keras.losses.CategoricalCrossentropy(),\n",
    "#                   metrics=['accuracy'])"
   ],
   "metadata": {
    "collapsed": false,
    "ExecuteTime": {
     "end_time": "2024-05-01T17:27:09.079204700Z",
     "start_time": "2024-05-01T17:27:09.050479400Z"
    }
   },
   "id": "3952f3cd416d2792",
   "execution_count": 366
  },
  {
   "cell_type": "markdown",
   "source": [
    "* Dropout between conv2D and maxPooling didnt work well \n",
    "* Changing kernel size from 3,3 to (7,7) and (5,5) improved the model a lot"
   ],
   "metadata": {
    "collapsed": false
   },
   "id": "ed195d01a1dc381a"
  },
  {
   "cell_type": "code",
   "outputs": [],
   "source": [
    "# with tf.device('/GPU:0'):\n",
    "#     CNN2D_model.fit(X2_train, y2_train, batch_size=32, epochs=10,callbacks=[learning_rate_scheduler], validation_data=(X2_val, y2_val))"
   ],
   "metadata": {
    "collapsed": false,
    "ExecuteTime": {
     "end_time": "2024-05-01T17:27:09.091627700Z",
     "start_time": "2024-05-01T17:27:09.065555100Z"
    }
   },
   "id": "ab57a68ebe8f3ec0",
   "execution_count": 367
  },
  {
   "cell_type": "code",
   "outputs": [],
   "source": [
    "# CNN2D_model.evaluate(X2_test, y2_test)\n",
    "# y_test.shape"
   ],
   "metadata": {
    "collapsed": false,
    "ExecuteTime": {
     "end_time": "2024-05-01T17:27:09.107269500Z",
     "start_time": "2024-05-01T17:27:09.081390700Z"
    }
   },
   "id": "af4aba0041b5aba6",
   "execution_count": 368
  },
  {
   "cell_type": "code",
   "outputs": [],
   "source": [
    "# CNN2D_model.save('2DCnnModel--76%')"
   ],
   "metadata": {
    "collapsed": false,
    "ExecuteTime": {
     "end_time": "2024-05-01T17:27:09.127128100Z",
     "start_time": "2024-05-01T17:27:09.095952800Z"
    }
   },
   "id": "eb8a8a6de732cc12",
   "execution_count": 369
  },
  {
   "cell_type": "code",
   "outputs": [],
   "source": [
    "# from tensorflow.keras.utils import plot_model\n",
    "# \n",
    "# plot_model(CNN2D_model, show_shapes=True, show_layer_names=True, show_dtype=True)"
   ],
   "metadata": {
    "collapsed": false,
    "ExecuteTime": {
     "end_time": "2024-05-01T17:27:09.144761900Z",
     "start_time": "2024-05-01T17:27:09.112599800Z"
    }
   },
   "id": "be517b803808ae3",
   "execution_count": 370
  }
 ],
 "metadata": {
  "kernelspec": {
   "display_name": "Python 3",
   "language": "python",
   "name": "python3"
  },
  "language_info": {
   "codemirror_mode": {
    "name": "ipython",
    "version": 2
   },
   "file_extension": ".py",
   "mimetype": "text/x-python",
   "name": "python",
   "nbconvert_exporter": "python",
   "pygments_lexer": "ipython2",
   "version": "2.7.6"
  }
 },
 "nbformat": 4,
 "nbformat_minor": 5
}
