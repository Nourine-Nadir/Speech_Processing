{
 "cells": [
  {
   "cell_type": "markdown",
   "source": [
    "# Resume of the two papers studied that used BAVED dataset"
   ],
   "metadata": {
    "collapsed": false
   },
   "id": "868b5eeb992d9e34"
  },
  {
   "cell_type": "markdown",
   "source": [
    "## First paper : \n",
    "##### Arabic Speech Emotion Recognition Employing Wav2vec2.0 and HuBERT Based on BAVED  Dataset\n",
    "\n",
    "This paper firstly go through the challenges of working in Arabic speech emotion recognition (ASER) due to the **lack of the available dataset** sets particularly in\n",
    "dialogues, the **complexity of the arabic language** and the important role of the **contex**t in which the **words or expression** are used.\n",
    "Then It talks about the previous works in this field and the SOTA (state of the art) techniques used and discussed.\n",
    "\n",
    "**Models Deployed** : \n",
    "**Wav2vec2.0** : \n",
    "* Encode the raw audio through a convolutional layer to extract features and transform it into a numerical representation\n",
    "* Mask random portions of the encoded speech representation in various ways , like masking random time steps or frequency bands\n",
    "* The model doesn't try to predict the masked portion as HuBERT does, instead, it focuses on contrastive task between the original masked portion to other version of it that has been altered, the model learns to differentiate similar representations from dissimilar ones.\n",
    "\n",
    "The main advantage of this algorithm is leveraging unlabeled data.\n",
    "\n",
    "**HuBERT** :\n",
    "* Encode the audio just as Wav2vec2.0 does to extract features and transform into continuous latent representations.\n",
    "* The masking step here is different as it masks randomly certain sections. This creates the challenge that this model will try to solve of predicting the masked parts.\n",
    "* THe model attempt to predict the masked portions. This forces the model to learn the underlying structure and relationships within the speech data.           \n",
    "* To guide the masked predictions, HuBERT utilizes pre-defined cluster targets. Predicting the correct cluster for the masked segment helps the model understand the masked speech content.\n",
    "\n",
    "The advantage of this model is its efficiency as it requires labeled data for training "
   ],
   "metadata": {
    "collapsed": false
   },
   "id": "2ee768a2dff10890"
  },
  {
   "cell_type": "markdown",
   "source": [
    "## Second paper : \n",
    "##### Transformer-Based Multilingual Speech Emotion Recognition Using Data Augmentation and Feature Fusion\n",
    "\n",
    "This paper used transformer model for emotion recognition but before training it, the methodology used was : \n",
    "* **Data Augmentation** : Data augmentation was used to prevent overfitting,robust performance and generalize accuracy. For that adding **Gaussian noise** was the first step then **pitch shifting** and **time stretching** \n",
    "            \n",
    "* **Feature Extraction** : The total number of features extracted for this study is **273** from **7** different methods :\n",
    "    * Mel-spectrogram\n",
    "    * Chromagram\n",
    "    * MFCC\n",
    "    * Delta-MFCC\n",
    "    * Delta-delta MFCC\n",
    "    * Tonnetz\n",
    "* **Evaluation Metrics** : **Accuracy**, **Recall** and **Precision** are metrics that has been used.\n",
    "* **Transformer Model** :  The specific transformer model used here is a three-layer transformer. The layers in a transformer model are typically encoder layers and decoder layers. Encoder layers process the input sequence, while decoder layers generate the output sequence. The **Architecture** of the model is the following\n",
    "    \n",
    "    * The model has three layers.   \n",
    "    * The first layer is an input layer that takes an input of shape (None, None, 273). This means that the input can have any batch size and sequence length, and each element in the sequence has a dimension of 273.\n",
    "    * The second layer is an encoder layer that processes the input sequence. The output of the encoder layer has the same shape as the input, (None, None, 273).\n",
    "    * The third layer is a decoder layer that generates the output sequence. The output of the decoder layer has a shape of (None, 7). This means that the output can have any batch size and sequence length, and each element in the sequence has a dimension of 7.\n"
   ],
   "metadata": {
    "collapsed": false
   },
   "id": "d8b8b5a056871086"
  },
  {
   "cell_type": "markdown",
   "source": [
    "# Code"
   ],
   "metadata": {
    "collapsed": false
   },
   "id": "87489a178e4d1108"
  },
  {
   "cell_type": "markdown",
   "source": [
    "## Import main libraries"
   ],
   "metadata": {
    "papermill": {
     "duration": 0.01731,
     "end_time": "2024-05-01T20:42:39.972492",
     "exception": false,
     "start_time": "2024-05-01T20:42:39.955182",
     "status": "completed"
    },
    "tags": []
   },
   "id": "c4e14959"
  },
  {
   "cell_type": "code",
   "execution_count": 3,
   "id": "555eb3fc",
   "metadata": {
    "execution": {
     "iopub.execute_input": "2024-05-01T20:42:40.008980Z",
     "iopub.status.busy": "2024-05-01T20:42:40.008475Z",
     "iopub.status.idle": "2024-05-01T20:42:41.097544Z",
     "shell.execute_reply": "2024-05-01T20:42:41.096513Z"
    },
    "papermill": {
     "duration": 1.110453,
     "end_time": "2024-05-01T20:42:41.100192",
     "exception": false,
     "start_time": "2024-05-01T20:42:39.989739",
     "status": "completed"
    },
    "tags": [],
    "ExecuteTime": {
     "end_time": "2024-05-20T13:40:55.555194500Z",
     "start_time": "2024-05-20T13:40:55.191613400Z"
    }
   },
   "outputs": [],
   "source": [
    "import numpy as np\n",
    "import pandas as pd\n",
    "import matplotlib.pyplot as plt\n",
    "from scipy.io import wavfile\n",
    "from IPython.display import Audio, display"
   ]
  },
  {
   "cell_type": "markdown",
   "id": "78bcb0c0",
   "metadata": {
    "papermill": {
     "duration": 0.018677,
     "end_time": "2024-05-01T20:42:41.135979",
     "exception": false,
     "start_time": "2024-05-01T20:42:41.117302",
     "status": "completed"
    },
    "tags": []
   },
   "source": [
    "## Engine"
   ]
  },
  {
   "cell_type": "code",
   "execution_count": 4,
   "id": "5ef66118",
   "metadata": {
    "collapsed": false,
    "execution": {
     "iopub.execute_input": "2024-05-01T20:42:41.173545Z",
     "iopub.status.busy": "2024-05-01T20:42:41.172722Z",
     "iopub.status.idle": "2024-05-01T20:42:41.197421Z",
     "shell.execute_reply": "2024-05-01T20:42:41.196674Z"
    },
    "papermill": {
     "duration": 0.04596,
     "end_time": "2024-05-01T20:42:41.199582",
     "exception": false,
     "start_time": "2024-05-01T20:42:41.153622",
     "status": "completed"
    },
    "tags": [],
    "ExecuteTime": {
     "end_time": "2024-05-20T13:40:55.583183200Z",
     "start_time": "2024-05-20T13:40:55.316674300Z"
    }
   },
   "outputs": [],
   "source": [
    "import os\n",
    "import tqdm\n",
    "\n",
    "\n",
    "class Engine(object):\n",
    "    def __init__(self, folder_path):\n",
    "        self.folder_path = folder_path\n",
    "        self.wavs_files = []\n",
    "        self.extract_vocals()\n",
    "        self.wavs_df = pd.DataFrame(self.wavs_files, columns=['filename'])\n",
    "        self.wavs_df.set_index('filename', inplace=True)\n",
    "\n",
    "    def __iterate_wavs(self):\n",
    "\n",
    "        for root, _, files in os.walk(self.folder_path):\n",
    "            for filename in files:\n",
    "                if filename.endswith(\".wav\"):  # Check for WAV extension\n",
    "                    yield os.path.join(filename)  # Yield full path\n",
    "\n",
    "    def extract_vocals(self):\n",
    "        for wav_file in (self.__iterate_wavs()):\n",
    "            # print(f\"Found WAV file: {wav_file}\")\n",
    "            self.wavs_files.append(wav_file)\n",
    "\n",
    "    def classify_files(self):\n",
    "        new_columns = {\n",
    "            'speaker_id': np.empty(len(self.wavs_files), dtype=np.float_),\n",
    "            'speaker_gender': np.empty(len(self.wavs_files), dtype=np.str_),\n",
    "            'speaker_age': np.empty(len(self.wavs_files), dtype=np.float_),\n",
    "            'spoken_word': np.empty(len(self.wavs_files), dtype=np.float_),\n",
    "            'spoken_emotion': np.empty(len(self.wavs_files), dtype=np.float_),\n",
    "            'record_id': np.empty(len(self.wavs_files), dtype=np.str_)\n",
    "        }\n",
    "\n",
    "        # Concatenate along columns (axis=1)\n",
    "        self.wavs_df = pd.concat([self.wavs_df, pd.DataFrame(new_columns)])\n",
    "        self.wavs_df = self.wavs_df.iloc[:len(self.wavs_files)]\n",
    "\n",
    "        for wav_file in self.wavs_files:\n",
    "            wav_info = wav_file.split('-')\n",
    "            # print(wav_info)\n",
    "            self.wavs_df.loc[wav_file, :] = wav_info\n",
    "\n",
    "        for idx, value in enumerate(self.wavs_df.loc[:, 'record_id']):\n",
    "            self.wavs_df.iloc[idx, -1] = value.split('.')[0]\n",
    "\n",
    "\n",
    "\n",
    "\n"
   ]
  },
  {
   "cell_type": "markdown",
   "id": "43411556",
   "metadata": {
    "papermill": {
     "duration": 0.017098,
     "end_time": "2024-05-01T20:42:41.233694",
     "exception": false,
     "start_time": "2024-05-01T20:42:41.216596",
     "status": "completed"
    },
    "tags": []
   },
   "source": [
    "#### Instantiate engine"
   ]
  },
  {
   "cell_type": "code",
   "execution_count": 5,
   "id": "453f693c",
   "metadata": {
    "collapsed": false,
    "execution": {
     "iopub.execute_input": "2024-05-01T20:42:41.300853Z",
     "iopub.status.busy": "2024-05-01T20:42:41.300229Z",
     "iopub.status.idle": "2024-05-01T20:42:41.633462Z",
     "shell.execute_reply": "2024-05-01T20:42:41.632329Z"
    },
    "papermill": {
     "duration": 0.352998,
     "end_time": "2024-05-01T20:42:41.636142",
     "exception": false,
     "start_time": "2024-05-01T20:42:41.283144",
     "status": "completed"
    },
    "tags": [],
    "ExecuteTime": {
     "end_time": "2024-05-20T13:40:55.611397200Z",
     "start_time": "2024-05-20T13:40:55.558405100Z"
    }
   },
   "outputs": [],
   "source": [
    "folder_path = \"../Basic-Arabic-Vocal-Emotions-Dataset//\"\n",
    "engine = Engine(folder_path)\n"
   ]
  },
  {
   "cell_type": "code",
   "execution_count": 6,
   "id": "f9ad84f6",
   "metadata": {
    "collapsed": false,
    "execution": {
     "iopub.execute_input": "2024-05-01T20:42:41.672820Z",
     "iopub.status.busy": "2024-05-01T20:42:41.672116Z",
     "iopub.status.idle": "2024-05-01T20:42:41.684108Z",
     "shell.execute_reply": "2024-05-01T20:42:41.683179Z"
    },
    "papermill": {
     "duration": 0.032027,
     "end_time": "2024-05-01T20:42:41.686269",
     "exception": false,
     "start_time": "2024-05-01T20:42:41.654242",
     "status": "completed"
    },
    "tags": [],
    "ExecuteTime": {
     "end_time": "2024-05-20T13:40:55.653654600Z",
     "start_time": "2024-05-20T13:40:55.600867500Z"
    }
   },
   "outputs": [
    {
     "data": {
      "text/plain": "Empty DataFrame\nColumns: []\nIndex: [0-m-21-0-1-105.wav, 0-m-21-0-2-106.wav, 1-m-20-0-1-107.wav, 10-f-20-0-1-0.wav, 100-f-6-0-0-0.wav]",
      "text/html": "<div>\n<style scoped>\n    .dataframe tbody tr th:only-of-type {\n        vertical-align: middle;\n    }\n\n    .dataframe tbody tr th {\n        vertical-align: top;\n    }\n\n    .dataframe thead th {\n        text-align: right;\n    }\n</style>\n<table border=\"1\" class=\"dataframe\">\n  <thead>\n    <tr style=\"text-align: right;\">\n      <th></th>\n    </tr>\n    <tr>\n      <th>filename</th>\n    </tr>\n  </thead>\n  <tbody>\n    <tr>\n      <th>0-m-21-0-1-105.wav</th>\n    </tr>\n    <tr>\n      <th>0-m-21-0-2-106.wav</th>\n    </tr>\n    <tr>\n      <th>1-m-20-0-1-107.wav</th>\n    </tr>\n    <tr>\n      <th>10-f-20-0-1-0.wav</th>\n    </tr>\n    <tr>\n      <th>100-f-6-0-0-0.wav</th>\n    </tr>\n  </tbody>\n</table>\n</div>"
     },
     "execution_count": 6,
     "metadata": {},
     "output_type": "execute_result"
    }
   ],
   "source": [
    "engine.wavs_df.head()\n"
   ]
  },
  {
   "cell_type": "code",
   "execution_count": 7,
   "id": "f5b516e4",
   "metadata": {
    "collapsed": false,
    "execution": {
     "iopub.execute_input": "2024-05-01T20:42:41.722406Z",
     "iopub.status.busy": "2024-05-01T20:42:41.722051Z",
     "iopub.status.idle": "2024-05-01T20:42:44.023014Z",
     "shell.execute_reply": "2024-05-01T20:42:44.021892Z"
    },
    "papermill": {
     "duration": 2.323264,
     "end_time": "2024-05-01T20:42:44.026019",
     "exception": false,
     "start_time": "2024-05-01T20:42:41.702755",
     "status": "completed"
    },
    "tags": [],
    "ExecuteTime": {
     "end_time": "2024-05-20T13:40:56.155704300Z",
     "start_time": "2024-05-20T13:40:55.617435700Z"
    }
   },
   "outputs": [],
   "source": [
    "engine.classify_files()"
   ]
  },
  {
   "cell_type": "code",
   "execution_count": 8,
   "id": "b15c4fa9",
   "metadata": {
    "collapsed": false,
    "execution": {
     "iopub.execute_input": "2024-05-01T20:42:44.063437Z",
     "iopub.status.busy": "2024-05-01T20:42:44.062483Z",
     "iopub.status.idle": "2024-05-01T20:42:44.155432Z",
     "shell.execute_reply": "2024-05-01T20:42:44.154565Z"
    },
    "papermill": {
     "duration": 0.114158,
     "end_time": "2024-05-01T20:42:44.158116",
     "exception": false,
     "start_time": "2024-05-01T20:42:44.043958",
     "status": "completed"
    },
    "tags": [],
    "ExecuteTime": {
     "end_time": "2024-05-20T13:40:56.206567900Z",
     "start_time": "2024-05-20T13:40:56.120496400Z"
    }
   },
   "outputs": [],
   "source": [
    "from scipy.fftpack import idct\n",
    "import warnings\n",
    "\n",
    "warnings.filterwarnings(\"ignore\")\n",
    "\n",
    "\n",
    "## Fonctions utiles\n",
    "def Mel2Hz(mel): return 700 * (np.power(10, mel / 2595) - 1)\n",
    "\n",
    "\n",
    "def Hz2Mel(freq): return 2595 * np.log10(1 + freq / 700)\n",
    "\n",
    "\n",
    "def Hz2Ind(freq, fs, Tfft): return (freq * Tfft / fs).astype(int)\n",
    "\n",
    "\n",
    "def hamming(T): return 0.54 - 0.46 * np.cos(2 * np.pi * np.arange(T) / (T - 1))\n",
    "\n",
    "\n",
    "#Réalisation d'un banc de filtres mel\n",
    "def FiltresMel(fs, nf=36, Tfft=512, fmin=100, fmax=8000):\n",
    "    Indices = Hz2Ind(Mel2Hz(np.linspace(Hz2Mel(fmin), Hz2Mel(min(fmax, fs / 2)), nf + 2)), fs, Tfft)\n",
    "    filtres = np.zeros((int(Tfft / 2), nf))\n",
    "    for i in range(nf): filtres[Indices[i]:Indices[i + 2], i] = hamming(Indices[i + 2] - Indices[i])\n",
    "    return filtres\n",
    "\n",
    "\n",
    "#Calcul du spectrogramme\n",
    "def spectrogram(x, T, p, Tfft):\n",
    "    S = []\n",
    "    for i in range(0, len(x) - T, p): S.append(x[i:i + T] * hamming(T))  #fenêtrage \n",
    "    S = np.fft.fft(S, Tfft)  #Transformée de Fourier\n",
    "    return np.abs(S), np.angle(S)  #spectre d'amplitude et de phase\n",
    "\n",
    "\n",
    "#Calcul des mfcc\n",
    "def mfcc(data, filtres, nc=13, T=256, p=64, Tfft=512):\n",
    "    data = (data[1] - np.mean(data[1])) / np.std(data[1])  #normaliser les données\n",
    "    amp, ph = spectrogram(data, T, p, Tfft)\n",
    "    amp_f = np.log10(np.dot(amp[:, :int(Tfft / 2)], filtres) + 1)\n",
    "    return idct(amp_f, n=nc, norm='ortho')\n"
   ]
  },
  {
   "cell_type": "code",
   "execution_count": 9,
   "id": "7997fcf3",
   "metadata": {
    "collapsed": false,
    "execution": {
     "iopub.execute_input": "2024-05-01T20:42:44.194558Z",
     "iopub.status.busy": "2024-05-01T20:42:44.194215Z",
     "iopub.status.idle": "2024-05-01T20:42:44.201409Z",
     "shell.execute_reply": "2024-05-01T20:42:44.200443Z"
    },
    "papermill": {
     "duration": 0.027161,
     "end_time": "2024-05-01T20:42:44.203523",
     "exception": false,
     "start_time": "2024-05-01T20:42:44.176362",
     "status": "completed"
    },
    "tags": [],
    "ExecuteTime": {
     "end_time": "2024-05-20T13:40:56.222113800Z",
     "start_time": "2024-05-20T13:40:56.158897600Z"
    }
   },
   "outputs": [],
   "source": [
    "fs = 8000  #la fréquence d'échantillonage des exemples\n",
    "filtres = FiltresMel(fs)  #réalisation des filtres auditifs"
   ]
  },
  {
   "cell_type": "markdown",
   "source": [
    "# Extract audio files and apply mfcc"
   ],
   "metadata": {
    "collapsed": false
   },
   "id": "323dac9ed011f1b1"
  },
  {
   "cell_type": "code",
   "execution_count": 10,
   "id": "ae562d08",
   "metadata": {
    "collapsed": false,
    "execution": {
     "iopub.execute_input": "2024-05-01T20:42:44.246277Z",
     "iopub.status.busy": "2024-05-01T20:42:44.245423Z",
     "iopub.status.idle": "2024-05-01T20:43:57.503070Z",
     "shell.execute_reply": "2024-05-01T20:43:57.501128Z"
    },
    "papermill": {
     "duration": 73.286174,
     "end_time": "2024-05-01T20:43:57.508841",
     "exception": false,
     "start_time": "2024-05-01T20:42:44.222667",
     "status": "completed"
    },
    "tags": [],
    "ExecuteTime": {
     "end_time": "2024-05-20T13:41:41.915253500Z",
     "start_time": "2024-05-20T13:40:56.177542700Z"
    }
   },
   "outputs": [],
   "source": [
    "words = ['like', 'didnt like', 'this', 'movie', 'super', 'correct', 'bad']  #les mots prononcés\n",
    "nc = 100  # number of coefficients to extract with MFCC\n",
    "filtered_audio = []\n",
    "for index, row in engine.wavs_df.iterrows():\n",
    "    filename = os.path.join(folder_path, row[3], index)  \n",
    "\n",
    "    # Check if file exists before processing\n",
    "    if os.path.exists(filename):\n",
    "        try:\n",
    "            filtered_audio.append(mfcc(wavfile.read(filename), filtres, nc=nc))\n",
    "        except FileNotFoundError:\n",
    "            print(f\"Warning: File not found: {filename}. Skipping...\")  \n",
    "    else:\n",
    "        print(f\"Warning: File not found: {filename}. Skipping...\")  \n",
    "\n"
   ]
  },
  {
   "cell_type": "markdown",
   "source": [
    "**Note** : Changin number of coefficient from 13 to 100 improved the model by 15%-30%"
   ],
   "metadata": {
    "collapsed": false
   },
   "id": "b737d59b3071c7ce"
  },
  {
   "cell_type": "markdown",
   "id": "f1931fba",
   "metadata": {
    "papermill": {
     "duration": 0.036895,
     "end_time": "2024-05-01T20:43:57.590542",
     "exception": false,
     "start_time": "2024-05-01T20:43:57.553647",
     "status": "completed"
    },
    "tags": []
   },
   "source": [
    "### Encode gender "
   ]
  },
  {
   "cell_type": "code",
   "execution_count": 11,
   "id": "b204741d",
   "metadata": {
    "collapsed": false,
    "execution": {
     "iopub.execute_input": "2024-05-01T20:43:57.649235Z",
     "iopub.status.busy": "2024-05-01T20:43:57.648654Z",
     "iopub.status.idle": "2024-05-01T20:43:58.395334Z",
     "shell.execute_reply": "2024-05-01T20:43:58.394197Z"
    },
    "papermill": {
     "duration": 0.770977,
     "end_time": "2024-05-01T20:43:58.397880",
     "exception": false,
     "start_time": "2024-05-01T20:43:57.626903",
     "status": "completed"
    },
    "tags": [],
    "ExecuteTime": {
     "end_time": "2024-05-20T13:41:42.338422800Z",
     "start_time": "2024-05-20T13:41:41.916253400Z"
    }
   },
   "outputs": [
    {
     "data": {
      "text/plain": "                   speaker_id  speaker_gender speaker_age spoken_word  \\\n0-m-21-0-1-105.wav          0               1          21           0   \n0-m-21-0-2-106.wav          0               1          21           0   \n1-m-20-0-1-107.wav          1               1          20           0   \n10-f-20-0-1-0.wav          10               0          20           0   \n100-f-6-0-0-0.wav         100               0           6           0   \n\n                   spoken_emotion record_id  \n0-m-21-0-1-105.wav              1       105  \n0-m-21-0-2-106.wav              2       106  \n1-m-20-0-1-107.wav              1       107  \n10-f-20-0-1-0.wav               1         0  \n100-f-6-0-0-0.wav               0         0  ",
      "text/html": "<div>\n<style scoped>\n    .dataframe tbody tr th:only-of-type {\n        vertical-align: middle;\n    }\n\n    .dataframe tbody tr th {\n        vertical-align: top;\n    }\n\n    .dataframe thead th {\n        text-align: right;\n    }\n</style>\n<table border=\"1\" class=\"dataframe\">\n  <thead>\n    <tr style=\"text-align: right;\">\n      <th></th>\n      <th>speaker_id</th>\n      <th>speaker_gender</th>\n      <th>speaker_age</th>\n      <th>spoken_word</th>\n      <th>spoken_emotion</th>\n      <th>record_id</th>\n    </tr>\n  </thead>\n  <tbody>\n    <tr>\n      <th>0-m-21-0-1-105.wav</th>\n      <td>0</td>\n      <td>1</td>\n      <td>21</td>\n      <td>0</td>\n      <td>1</td>\n      <td>105</td>\n    </tr>\n    <tr>\n      <th>0-m-21-0-2-106.wav</th>\n      <td>0</td>\n      <td>1</td>\n      <td>21</td>\n      <td>0</td>\n      <td>2</td>\n      <td>106</td>\n    </tr>\n    <tr>\n      <th>1-m-20-0-1-107.wav</th>\n      <td>1</td>\n      <td>1</td>\n      <td>20</td>\n      <td>0</td>\n      <td>1</td>\n      <td>107</td>\n    </tr>\n    <tr>\n      <th>10-f-20-0-1-0.wav</th>\n      <td>10</td>\n      <td>0</td>\n      <td>20</td>\n      <td>0</td>\n      <td>1</td>\n      <td>0</td>\n    </tr>\n    <tr>\n      <th>100-f-6-0-0-0.wav</th>\n      <td>100</td>\n      <td>0</td>\n      <td>6</td>\n      <td>0</td>\n      <td>0</td>\n      <td>0</td>\n    </tr>\n  </tbody>\n</table>\n</div>"
     },
     "execution_count": 11,
     "metadata": {},
     "output_type": "execute_result"
    }
   ],
   "source": [
    "from sklearn.preprocessing import LabelEncoder\n",
    "\n",
    "encoder = LabelEncoder()\n",
    "engine.wavs_df['speaker_gender'] = encoder.fit_transform(engine.wavs_df['speaker_gender'])\n",
    "engine.wavs_df.head()"
   ]
  },
  {
   "cell_type": "markdown",
   "source": [
    "## One hot encoding targets"
   ],
   "metadata": {
    "collapsed": false
   },
   "id": "5b96a7dff79a7e2f"
  },
  {
   "cell_type": "code",
   "execution_count": 12,
   "id": "749d132e",
   "metadata": {
    "collapsed": false,
    "execution": {
     "iopub.execute_input": "2024-05-01T20:43:58.436358Z",
     "iopub.status.busy": "2024-05-01T20:43:58.436041Z",
     "iopub.status.idle": "2024-05-01T20:43:58.470850Z",
     "shell.execute_reply": "2024-05-01T20:43:58.469856Z"
    },
    "papermill": {
     "duration": 0.055879,
     "end_time": "2024-05-01T20:43:58.473164",
     "exception": false,
     "start_time": "2024-05-01T20:43:58.417285",
     "status": "completed"
    },
    "tags": [],
    "ExecuteTime": {
     "end_time": "2024-05-20T13:41:42.448448500Z",
     "start_time": "2024-05-20T13:41:42.338422800Z"
    }
   },
   "outputs": [
    {
     "data": {
      "text/plain": "                     speaker_id speaker_age record_id  speaker_gender_0  \\\n0-m-21-0-1-105.wav            0          21       105                 0   \n0-m-21-0-2-106.wav            0          21       106                 0   \n1-m-20-0-1-107.wav            1          20       107                 0   \n10-f-20-0-1-0.wav            10          20         0                 1   \n100-f-6-0-0-0.wav           100           6         0                 1   \n...                         ...         ...       ...               ...   \n56-f-40-6-2-1695.wav         56          40      1695                 1   \n6-m-21-6-0-1848.wav           6          21      1848                 0   \n7-m-22-6-0-1849.wav           7          22      1849                 0   \n8-m-18-6-2-1850.wav           8          18      1850                 0   \n9-f-20-6-1-1696.wav           9          20      1696                 1   \n\n                      speaker_gender_1  spoken_emotion_0  spoken_emotion_1  \\\n0-m-21-0-1-105.wav                   1                 0                 1   \n0-m-21-0-2-106.wav                   1                 0                 0   \n1-m-20-0-1-107.wav                   1                 0                 1   \n10-f-20-0-1-0.wav                    0                 0                 1   \n100-f-6-0-0-0.wav                    0                 1                 0   \n...                                ...               ...               ...   \n56-f-40-6-2-1695.wav                 0                 0                 0   \n6-m-21-6-0-1848.wav                  1                 1                 0   \n7-m-22-6-0-1849.wav                  1                 1                 0   \n8-m-18-6-2-1850.wav                  1                 0                 0   \n9-f-20-6-1-1696.wav                  0                 0                 1   \n\n                      spoken_emotion_2  spoken_word_0  spoken_word_1  \\\n0-m-21-0-1-105.wav                   0              1              0   \n0-m-21-0-2-106.wav                   1              1              0   \n1-m-20-0-1-107.wav                   0              1              0   \n10-f-20-0-1-0.wav                    0              1              0   \n100-f-6-0-0-0.wav                    0              1              0   \n...                                ...            ...            ...   \n56-f-40-6-2-1695.wav                 1              0              0   \n6-m-21-6-0-1848.wav                  0              0              0   \n7-m-22-6-0-1849.wav                  0              0              0   \n8-m-18-6-2-1850.wav                  1              0              0   \n9-f-20-6-1-1696.wav                  0              0              0   \n\n                      spoken_word_2  spoken_word_3  spoken_word_4  \\\n0-m-21-0-1-105.wav                0              0              0   \n0-m-21-0-2-106.wav                0              0              0   \n1-m-20-0-1-107.wav                0              0              0   \n10-f-20-0-1-0.wav                 0              0              0   \n100-f-6-0-0-0.wav                 0              0              0   \n...                             ...            ...            ...   \n56-f-40-6-2-1695.wav              0              0              0   \n6-m-21-6-0-1848.wav               0              0              0   \n7-m-22-6-0-1849.wav               0              0              0   \n8-m-18-6-2-1850.wav               0              0              0   \n9-f-20-6-1-1696.wav               0              0              0   \n\n                      spoken_word_5  spoken_word_6  \n0-m-21-0-1-105.wav                0              0  \n0-m-21-0-2-106.wav                0              0  \n1-m-20-0-1-107.wav                0              0  \n10-f-20-0-1-0.wav                 0              0  \n100-f-6-0-0-0.wav                 0              0  \n...                             ...            ...  \n56-f-40-6-2-1695.wav              0              1  \n6-m-21-6-0-1848.wav               0              1  \n7-m-22-6-0-1849.wav               0              1  \n8-m-18-6-2-1850.wav               0              1  \n9-f-20-6-1-1696.wav               0              1  \n\n[1935 rows x 15 columns]",
      "text/html": "<div>\n<style scoped>\n    .dataframe tbody tr th:only-of-type {\n        vertical-align: middle;\n    }\n\n    .dataframe tbody tr th {\n        vertical-align: top;\n    }\n\n    .dataframe thead th {\n        text-align: right;\n    }\n</style>\n<table border=\"1\" class=\"dataframe\">\n  <thead>\n    <tr style=\"text-align: right;\">\n      <th></th>\n      <th>speaker_id</th>\n      <th>speaker_age</th>\n      <th>record_id</th>\n      <th>speaker_gender_0</th>\n      <th>speaker_gender_1</th>\n      <th>spoken_emotion_0</th>\n      <th>spoken_emotion_1</th>\n      <th>spoken_emotion_2</th>\n      <th>spoken_word_0</th>\n      <th>spoken_word_1</th>\n      <th>spoken_word_2</th>\n      <th>spoken_word_3</th>\n      <th>spoken_word_4</th>\n      <th>spoken_word_5</th>\n      <th>spoken_word_6</th>\n    </tr>\n  </thead>\n  <tbody>\n    <tr>\n      <th>0-m-21-0-1-105.wav</th>\n      <td>0</td>\n      <td>21</td>\n      <td>105</td>\n      <td>0</td>\n      <td>1</td>\n      <td>0</td>\n      <td>1</td>\n      <td>0</td>\n      <td>1</td>\n      <td>0</td>\n      <td>0</td>\n      <td>0</td>\n      <td>0</td>\n      <td>0</td>\n      <td>0</td>\n    </tr>\n    <tr>\n      <th>0-m-21-0-2-106.wav</th>\n      <td>0</td>\n      <td>21</td>\n      <td>106</td>\n      <td>0</td>\n      <td>1</td>\n      <td>0</td>\n      <td>0</td>\n      <td>1</td>\n      <td>1</td>\n      <td>0</td>\n      <td>0</td>\n      <td>0</td>\n      <td>0</td>\n      <td>0</td>\n      <td>0</td>\n    </tr>\n    <tr>\n      <th>1-m-20-0-1-107.wav</th>\n      <td>1</td>\n      <td>20</td>\n      <td>107</td>\n      <td>0</td>\n      <td>1</td>\n      <td>0</td>\n      <td>1</td>\n      <td>0</td>\n      <td>1</td>\n      <td>0</td>\n      <td>0</td>\n      <td>0</td>\n      <td>0</td>\n      <td>0</td>\n      <td>0</td>\n    </tr>\n    <tr>\n      <th>10-f-20-0-1-0.wav</th>\n      <td>10</td>\n      <td>20</td>\n      <td>0</td>\n      <td>1</td>\n      <td>0</td>\n      <td>0</td>\n      <td>1</td>\n      <td>0</td>\n      <td>1</td>\n      <td>0</td>\n      <td>0</td>\n      <td>0</td>\n      <td>0</td>\n      <td>0</td>\n      <td>0</td>\n    </tr>\n    <tr>\n      <th>100-f-6-0-0-0.wav</th>\n      <td>100</td>\n      <td>6</td>\n      <td>0</td>\n      <td>1</td>\n      <td>0</td>\n      <td>1</td>\n      <td>0</td>\n      <td>0</td>\n      <td>1</td>\n      <td>0</td>\n      <td>0</td>\n      <td>0</td>\n      <td>0</td>\n      <td>0</td>\n      <td>0</td>\n    </tr>\n    <tr>\n      <th>...</th>\n      <td>...</td>\n      <td>...</td>\n      <td>...</td>\n      <td>...</td>\n      <td>...</td>\n      <td>...</td>\n      <td>...</td>\n      <td>...</td>\n      <td>...</td>\n      <td>...</td>\n      <td>...</td>\n      <td>...</td>\n      <td>...</td>\n      <td>...</td>\n      <td>...</td>\n    </tr>\n    <tr>\n      <th>56-f-40-6-2-1695.wav</th>\n      <td>56</td>\n      <td>40</td>\n      <td>1695</td>\n      <td>1</td>\n      <td>0</td>\n      <td>0</td>\n      <td>0</td>\n      <td>1</td>\n      <td>0</td>\n      <td>0</td>\n      <td>0</td>\n      <td>0</td>\n      <td>0</td>\n      <td>0</td>\n      <td>1</td>\n    </tr>\n    <tr>\n      <th>6-m-21-6-0-1848.wav</th>\n      <td>6</td>\n      <td>21</td>\n      <td>1848</td>\n      <td>0</td>\n      <td>1</td>\n      <td>1</td>\n      <td>0</td>\n      <td>0</td>\n      <td>0</td>\n      <td>0</td>\n      <td>0</td>\n      <td>0</td>\n      <td>0</td>\n      <td>0</td>\n      <td>1</td>\n    </tr>\n    <tr>\n      <th>7-m-22-6-0-1849.wav</th>\n      <td>7</td>\n      <td>22</td>\n      <td>1849</td>\n      <td>0</td>\n      <td>1</td>\n      <td>1</td>\n      <td>0</td>\n      <td>0</td>\n      <td>0</td>\n      <td>0</td>\n      <td>0</td>\n      <td>0</td>\n      <td>0</td>\n      <td>0</td>\n      <td>1</td>\n    </tr>\n    <tr>\n      <th>8-m-18-6-2-1850.wav</th>\n      <td>8</td>\n      <td>18</td>\n      <td>1850</td>\n      <td>0</td>\n      <td>1</td>\n      <td>0</td>\n      <td>0</td>\n      <td>1</td>\n      <td>0</td>\n      <td>0</td>\n      <td>0</td>\n      <td>0</td>\n      <td>0</td>\n      <td>0</td>\n      <td>1</td>\n    </tr>\n    <tr>\n      <th>9-f-20-6-1-1696.wav</th>\n      <td>9</td>\n      <td>20</td>\n      <td>1696</td>\n      <td>1</td>\n      <td>0</td>\n      <td>0</td>\n      <td>1</td>\n      <td>0</td>\n      <td>0</td>\n      <td>0</td>\n      <td>0</td>\n      <td>0</td>\n      <td>0</td>\n      <td>0</td>\n      <td>1</td>\n    </tr>\n  </tbody>\n</table>\n<p>1935 rows × 15 columns</p>\n</div>"
     },
     "execution_count": 12,
     "metadata": {},
     "output_type": "execute_result"
    }
   ],
   "source": [
    "coded_df = pd.get_dummies(data=engine.wavs_df, columns=['speaker_gender', 'spoken_emotion','spoken_word'])\n",
    "coded_df"
   ]
  },
  {
   "cell_type": "code",
   "execution_count": 13,
   "id": "2f3a6aa1",
   "metadata": {
    "collapsed": false,
    "execution": {
     "iopub.execute_input": "2024-05-01T20:43:58.512240Z",
     "iopub.status.busy": "2024-05-01T20:43:58.511442Z",
     "iopub.status.idle": "2024-05-01T20:43:58.519425Z",
     "shell.execute_reply": "2024-05-01T20:43:58.518452Z"
    },
    "papermill": {
     "duration": 0.028756,
     "end_time": "2024-05-01T20:43:58.521655",
     "exception": false,
     "start_time": "2024-05-01T20:43:58.492899",
     "status": "completed"
    },
    "tags": [],
    "ExecuteTime": {
     "end_time": "2024-05-20T13:41:42.455450100Z",
     "start_time": "2024-05-20T13:41:42.420442400Z"
    }
   },
   "outputs": [],
   "source": [
    "target_emotions = coded_df[['spoken_emotion_0','spoken_emotion_1','spoken_emotion_2']]\n",
    "target_genders = coded_df[['speaker_gender_0','speaker_gender_1']]\n",
    "target_words = coded_df[['spoken_word_0','spoken_word_1','spoken_word_2','spoken_word_3','spoken_word_4','spoken_word_5','spoken_word_6']]"
   ]
  },
  {
   "cell_type": "markdown",
   "id": "0a6e8be8",
   "metadata": {
    "papermill": {
     "duration": 0.017664,
     "end_time": "2024-05-01T20:43:58.593227",
     "exception": false,
     "start_time": "2024-05-01T20:43:58.575563",
     "status": "completed"
    },
    "tags": []
   },
   "source": [
    "# Get max shape \n",
    "Get the maximum length of the mfcc samples to reshape others the same shape"
   ]
  },
  {
   "cell_type": "code",
   "execution_count": 14,
   "id": "5fddb10f",
   "metadata": {
    "collapsed": false,
    "execution": {
     "iopub.execute_input": "2024-05-01T20:43:58.632131Z",
     "iopub.status.busy": "2024-05-01T20:43:58.631743Z",
     "iopub.status.idle": "2024-05-01T20:43:58.638184Z",
     "shell.execute_reply": "2024-05-01T20:43:58.637177Z"
    },
    "papermill": {
     "duration": 0.028813,
     "end_time": "2024-05-01T20:43:58.640435",
     "exception": false,
     "start_time": "2024-05-01T20:43:58.611622",
     "status": "completed"
    },
    "tags": [],
    "ExecuteTime": {
     "end_time": "2024-05-20T13:41:42.508461Z",
     "start_time": "2024-05-20T13:41:42.436445900Z"
    }
   },
   "outputs": [],
   "source": [
    "\n",
    "def get_max_shape(array):\n",
    "    max_shape = 0\n",
    "    for value in array:\n",
    "        if value.shape[0] > max_shape:\n",
    "            max_shape = value.shape[0]\n",
    "    return max_shape\n",
    "\n",
    "\n",
    "max_shape = get_max_shape(filtered_audio)"
   ]
  },
  {
   "cell_type": "markdown",
   "id": "2d80285d",
   "metadata": {
    "papermill": {
     "duration": 0.018983,
     "end_time": "2024-05-01T20:43:58.679174",
     "exception": false,
     "start_time": "2024-05-01T20:43:58.660191",
     "status": "completed"
    },
    "tags": []
   },
   "source": [
    "# Zero padding (post_padding)"
   ]
  },
  {
   "cell_type": "code",
   "execution_count": 15,
   "id": "ef323cd8",
   "metadata": {
    "collapsed": false,
    "execution": {
     "iopub.execute_input": "2024-05-01T20:43:58.763575Z",
     "iopub.status.busy": "2024-05-01T20:43:58.763174Z",
     "iopub.status.idle": "2024-05-01T20:44:00.142286Z",
     "shell.execute_reply": "2024-05-01T20:44:00.141379Z"
    },
    "papermill": {
     "duration": 1.447027,
     "end_time": "2024-05-01T20:44:00.145035",
     "exception": false,
     "start_time": "2024-05-01T20:43:58.698008",
     "status": "completed"
    },
    "tags": [],
    "ExecuteTime": {
     "end_time": "2024-05-20T13:41:44.367881900Z",
     "start_time": "2024-05-20T13:41:42.452448100Z"
    }
   },
   "outputs": [
    {
     "data": {
      "text/plain": "(1935, 1276, 100)"
     },
     "execution_count": 15,
     "metadata": {},
     "output_type": "execute_result"
    }
   ],
   "source": [
    "def post_padding(array, max_shape):\n",
    "    new_array = array.copy()\n",
    "    for idx, value in enumerate(array):\n",
    "        shape0 = (value.shape)[0]\n",
    "        pad0 = np.zeros((max_shape - shape0, nc))\n",
    "        new_array[idx] = np.concatenate((value, pad0))\n",
    "\n",
    "    return new_array\n",
    "\n",
    "\n",
    "post_padding_audios = post_padding(filtered_audio, max_shape)\n",
    "post_padding_audios = np.array(post_padding_audios)\n",
    "post_padding_audios.shape  # 1935 files with 1276,nc shape"
   ]
  },
  {
   "cell_type": "markdown",
   "id": "2eedc825",
   "metadata": {
    "papermill": {
     "duration": 0.018626,
     "end_time": "2024-05-01T20:44:00.825390",
     "exception": false,
     "start_time": "2024-05-01T20:44:00.806764",
     "status": "completed"
    },
    "tags": []
   },
   "source": [
    "# Zero padding (pre_padding)"
   ]
  },
  {
   "cell_type": "code",
   "execution_count": 16,
   "id": "acd469fe",
   "metadata": {
    "collapsed": false,
    "execution": {
     "iopub.execute_input": "2024-05-01T20:44:00.864615Z",
     "iopub.status.busy": "2024-05-01T20:44:00.864242Z",
     "iopub.status.idle": "2024-05-01T20:44:01.307658Z",
     "shell.execute_reply": "2024-05-01T20:44:01.306502Z"
    },
    "papermill": {
     "duration": 0.466213,
     "end_time": "2024-05-01T20:44:01.310513",
     "exception": false,
     "start_time": "2024-05-01T20:44:00.844300",
     "status": "completed"
    },
    "tags": [],
    "ExecuteTime": {
     "end_time": "2024-05-20T13:41:46.078269700Z",
     "start_time": "2024-05-20T13:41:44.370883100Z"
    }
   },
   "outputs": [
    {
     "data": {
      "text/plain": "(1935, 1276, 100)"
     },
     "execution_count": 16,
     "metadata": {},
     "output_type": "execute_result"
    }
   ],
   "source": [
    "def pre_padding(array, max_shape):\n",
    "    new_array = array.copy()\n",
    "    for idx, value in enumerate(array):\n",
    "        shape0 = (value.shape)[0]\n",
    "        pad0 = np.zeros((max_shape - shape0, nc))\n",
    "        new_array[idx] = np.concatenate((pad0, value))\n",
    "\n",
    "    return new_array\n",
    "\n",
    "\n",
    "pre_padding_audios = pre_padding(filtered_audio, max_shape)\n",
    "pre_padding_audios = np.array(pre_padding_audios)\n",
    "pre_padding_audios.shape  # 1935 files with 1276,nc shape"
   ]
  },
  {
   "cell_type": "markdown",
   "source": [
    "# Random padding"
   ],
   "metadata": {
    "collapsed": false
   },
   "id": "91ecaf526869e810"
  },
  {
   "cell_type": "code",
   "outputs": [
    {
     "data": {
      "text/plain": "(1935, 1276, 100)"
     },
     "execution_count": 17,
     "metadata": {},
     "output_type": "execute_result"
    }
   ],
   "source": [
    "import random \n",
    "def random_padding(array, max_shape):\n",
    "    new_array = array.copy()\n",
    "    for idx, value in enumerate(array):\n",
    "        shape0 = (value.shape)[0]\n",
    "        random_nb = random.randint(0,max_shape-shape0)\n",
    "        pre_pad0 = np.zeros((random_nb, nc))\n",
    "        post_pad0 = np.zeros((max_shape - (random_nb+shape0), nc))\n",
    "        new_array[idx] = np.concatenate((pre_pad0, value, post_pad0))\n",
    "\n",
    "    return new_array\n",
    "\n",
    "\n",
    "random_padding_audios = random_padding(filtered_audio, max_shape)\n",
    "random_padding_audios = np.array(random_padding_audios)\n",
    "random_padding_audios.shape  # 1935 files with 1276,nc shape"
   ],
   "metadata": {
    "collapsed": false,
    "ExecuteTime": {
     "end_time": "2024-05-20T13:41:48.685861300Z",
     "start_time": "2024-05-20T13:41:46.078269700Z"
    }
   },
   "id": "bde94c30fda7e5ce",
   "execution_count": 17
  },
  {
   "cell_type": "markdown",
   "source": [
    "Random padding gave the **worst result**, It shouldn't be **static output** instead, at **each epoch** performing this random padding to the samples"
   ],
   "metadata": {
    "collapsed": false
   },
   "id": "9557e90a2cc88f60"
  },
  {
   "cell_type": "markdown",
   "id": "1e63d651",
   "metadata": {
    "papermill": {
     "duration": 0.018,
     "end_time": "2024-05-01T20:44:01.988045",
     "exception": false,
     "start_time": "2024-05-01T20:44:01.970045",
     "status": "completed"
    },
    "tags": []
   },
   "source": [
    "# Notice \n",
    "I noticed that there is **no difference** whether using **pre padding** or **post padding**"
   ]
  },
  {
   "cell_type": "code",
   "execution_count": 18,
   "id": "6a3d4549",
   "metadata": {
    "collapsed": false,
    "execution": {
     "iopub.execute_input": "2024-05-01T20:44:02.026690Z",
     "iopub.status.busy": "2024-05-01T20:44:02.026325Z",
     "iopub.status.idle": "2024-05-01T20:44:02.033455Z",
     "shell.execute_reply": "2024-05-01T20:44:02.032525Z"
    },
    "papermill": {
     "duration": 0.028917,
     "end_time": "2024-05-01T20:44:02.035740",
     "exception": false,
     "start_time": "2024-05-01T20:44:02.006823",
     "status": "completed"
    },
    "tags": [],
    "ExecuteTime": {
     "end_time": "2024-05-20T13:41:48.741874300Z",
     "start_time": "2024-05-20T13:41:48.715867400Z"
    }
   },
   "outputs": [
    {
     "data": {
      "text/plain": "((1935, 1276, 100), (1935, 3))"
     },
     "execution_count": 18,
     "metadata": {},
     "output_type": "execute_result"
    }
   ],
   "source": [
    "X = pre_padding_audios\n",
    "y_emotions = target_emotions[:len(X)]  # Because of ignored files\n",
    "y_genders = target_genders[:len(X)]  # Because of ignored files\n",
    "y_words = target_words[:len(X)]  # Because of ignored files\n",
    "X.shape, y_emotions.shape\n"
   ]
  },
  {
   "cell_type": "markdown",
   "id": "0d539588",
   "metadata": {
    "papermill": {
     "duration": 0.017614,
     "end_time": "2024-05-01T20:44:02.070977",
     "exception": false,
     "start_time": "2024-05-01T20:44:02.053363",
     "status": "completed"
    },
    "tags": []
   },
   "source": [
    "# Data split"
   ]
  },
  {
   "cell_type": "code",
   "execution_count": 19,
   "id": "d86511d8",
   "metadata": {
    "collapsed": false,
    "execution": {
     "iopub.execute_input": "2024-05-01T20:44:02.110542Z",
     "iopub.status.busy": "2024-05-01T20:44:02.109605Z",
     "iopub.status.idle": "2024-05-01T20:44:14.567719Z",
     "shell.execute_reply": "2024-05-01T20:44:14.566950Z"
    },
    "papermill": {
     "duration": 12.48055,
     "end_time": "2024-05-01T20:44:14.570260",
     "exception": false,
     "start_time": "2024-05-01T20:44:02.089710",
     "status": "completed"
    },
    "tags": [],
    "ExecuteTime": {
     "end_time": "2024-05-20T13:42:03.145885200Z",
     "start_time": "2024-05-20T13:41:48.736871800Z"
    }
   },
   "outputs": [],
   "source": [
    "from sklearn.model_selection import train_test_split\n",
    "import tensorflow as tf\n",
    "\n",
    "physical_devices = tf.config.list_physical_devices('GPU')\n",
    "tf.config.experimental.set_memory_growth(physical_devices[0], True)\n",
    "\n"
   ]
  },
  {
   "cell_type": "markdown",
   "id": "d967bb36",
   "metadata": {
    "papermill": {
     "duration": 0.019035,
     "end_time": "2024-05-01T20:44:14.647557",
     "exception": false,
     "start_time": "2024-05-01T20:44:14.628522",
     "status": "completed"
    },
    "tags": []
   },
   "source": [
    "# Summary :\n",
    "### Model Conv2D : \n",
    "#### Architecture :\n",
    "Conv1D(16, (7,7)) -> MaxPool(2,2) -> Conv1D(32, (5,5)) -> MaxPool(2,2) -> Dropout(0.3) -> Conv1D(64, (3,3)) -> MaxPool(2,2) -> Dropout(0.3)  -> Flatten() -> FC(512) -> Dropout(0.6) -> FC(len(target))\n",
    "#### Hyperparameters :\n",
    "Optimizer : adam, lr : 0.001 (decay= 0.95), lossFunction : CategoricalCrossentropy(), batch_size=32, epochs=20"
   ]
  },
  {
   "cell_type": "code",
   "execution_count": 20,
   "id": "db347e47",
   "metadata": {
    "collapsed": false,
    "execution": {
     "iopub.execute_input": "2024-05-01T20:44:14.686253Z",
     "iopub.status.busy": "2024-05-01T20:44:14.685331Z",
     "iopub.status.idle": "2024-05-01T20:44:15.453271Z",
     "shell.execute_reply": "2024-05-01T20:44:15.452398Z"
    },
    "papermill": {
     "duration": 0.789519,
     "end_time": "2024-05-01T20:44:15.455698",
     "exception": false,
     "start_time": "2024-05-01T20:44:14.666179",
     "status": "completed"
    },
    "tags": [],
    "ExecuteTime": {
     "end_time": "2024-05-20T13:42:05.723573800Z",
     "start_time": "2024-05-20T13:42:03.148886600Z"
    }
   },
   "outputs": [],
   "source": [
    "X_train, X_holdout, y_train, y_holdout = train_test_split(X, y_emotions[:len(X)], test_size=0.3, random_state=42)\n",
    "X_val, X_test, y_val, y_test = train_test_split(X_holdout, y_holdout, test_size=0.5, random_state=42)\n",
    "\n",
    "# with tf.device('/cpu:0'):\n",
    "#     X_train = tf.expand_dims(X_train, axis=-1)\n",
    "#     X_test = tf.expand_dims(X_test, axis=-1)"
   ]
  },
  {
   "cell_type": "code",
   "execution_count": 21,
   "id": "9d0294f1",
   "metadata": {
    "collapsed": false,
    "execution": {
     "iopub.execute_input": "2024-05-01T20:44:15.548743Z",
     "iopub.status.busy": "2024-05-01T20:44:15.547774Z",
     "iopub.status.idle": "2024-05-01T20:44:15.554517Z",
     "shell.execute_reply": "2024-05-01T20:44:15.553517Z"
    },
    "papermill": {
     "duration": 0.031673,
     "end_time": "2024-05-01T20:44:15.556885",
     "exception": false,
     "start_time": "2024-05-01T20:44:15.525212",
     "status": "completed"
    },
    "tags": [],
    "ExecuteTime": {
     "end_time": "2024-05-20T13:42:05.741190300Z",
     "start_time": "2024-05-20T13:42:05.723573800Z"
    }
   },
   "outputs": [
    {
     "data": {
      "text/plain": "(1354, 1276, 100)"
     },
     "execution_count": 21,
     "metadata": {},
     "output_type": "execute_result"
    }
   ],
   "source": [
    "X_train.shape"
   ]
  },
  {
   "cell_type": "code",
   "execution_count": 22,
   "id": "026d795d",
   "metadata": {
    "collapsed": false,
    "execution": {
     "iopub.execute_input": "2024-05-01T20:44:15.598652Z",
     "iopub.status.busy": "2024-05-01T20:44:15.598330Z",
     "iopub.status.idle": "2024-05-01T20:44:16.401292Z",
     "shell.execute_reply": "2024-05-01T20:44:16.400045Z"
    },
    "papermill": {
     "duration": 0.827187,
     "end_time": "2024-05-01T20:44:16.404230",
     "exception": false,
     "start_time": "2024-05-01T20:44:15.577043",
     "status": "completed"
    },
    "tags": [],
    "ExecuteTime": {
     "end_time": "2024-05-20T13:42:07.139726800Z",
     "start_time": "2024-05-20T13:42:05.741190300Z"
    }
   },
   "outputs": [],
   "source": [
    "CNN_model1D = tf.keras.Sequential([\n",
    "    tf.keras.layers.Conv1D(32, (3), activation='relu', input_shape=( X_train.shape[1],X_train.shape[2]),\n",
    "                           kernel_regularizer=tf.keras.regularizers.L2(1e-6)),  # Input layer with channel dimension\n",
    "    tf.keras.layers.MaxPooling1D((2)),\n",
    "    tf.keras.layers.Conv1D(64, (3), activation='relu',kernel_regularizer=tf.keras.regularizers.L2(1e-6)),  # Input layer with channel dimension\n",
    "    tf.keras.layers.MaxPooling1D((2)),\n",
    "    tf.keras.layers.Dropout(0.3),\n",
    "    tf.keras.layers.Conv1D(128, (3), activation='relu',kernel_regularizer=tf.keras.regularizers.L2(1e-6)),  # Input layer with channel dimension\n",
    "    tf.keras.layers.MaxPooling1D((2)),\n",
    "    tf.keras.layers.Dropout(0.3),\n",
    "\n",
    "    tf.keras.layers.Flatten(),  # Flatten before dense layers\n",
    "    tf.keras.layers.Dense(512, activation='relu'),\n",
    "    tf.keras.layers.Dropout(0.6),\n",
    "    tf.keras.layers.Dense(units=y_emotions.shape[1], activation='softmax')\n",
    "])"
   ]
  },
  {
   "cell_type": "code",
   "execution_count": 23,
   "id": "d9e2623e",
   "metadata": {
    "collapsed": false,
    "execution": {
     "iopub.execute_input": "2024-05-01T20:44:16.444602Z",
     "iopub.status.busy": "2024-05-01T20:44:16.444245Z",
     "iopub.status.idle": "2024-05-01T20:44:16.459711Z",
     "shell.execute_reply": "2024-05-01T20:44:16.458773Z"
    },
    "papermill": {
     "duration": 0.038353,
     "end_time": "2024-05-01T20:44:16.462258",
     "exception": false,
     "start_time": "2024-05-01T20:44:16.423905",
     "status": "completed"
    },
    "tags": [],
    "ExecuteTime": {
     "end_time": "2024-05-20T13:42:07.156459400Z",
     "start_time": "2024-05-20T13:42:07.141207700Z"
    }
   },
   "outputs": [],
   "source": [
    "CNN_model1D.compile(optimizer=tf.keras.optimizers.Adam(learning_rate=0.001),  # Adjust learning rate as needed\n",
    "                  loss=tf.keras.losses.CategoricalCrossentropy(),\n",
    "                  metrics=['accuracy'])"
   ]
  },
  {
   "cell_type": "code",
   "execution_count": 24,
   "id": "89cc7e55",
   "metadata": {
    "collapsed": false,
    "execution": {
     "iopub.execute_input": "2024-05-01T20:44:16.511294Z",
     "iopub.status.busy": "2024-05-01T20:44:16.510795Z",
     "iopub.status.idle": "2024-05-01T20:44:16.521079Z",
     "shell.execute_reply": "2024-05-01T20:44:16.520032Z"
    },
    "papermill": {
     "duration": 0.039366,
     "end_time": "2024-05-01T20:44:16.523540",
     "exception": false,
     "start_time": "2024-05-01T20:44:16.484174",
     "status": "completed"
    },
    "tags": [],
    "ExecuteTime": {
     "end_time": "2024-05-20T13:42:07.186466800Z",
     "start_time": "2024-05-20T13:42:07.159460600Z"
    }
   },
   "outputs": [],
   "source": [
    "\n",
    "def lr_schedule(epoch, lr):\n",
    "  if lr < 1.e-06 : # To avoid reaching tiny learning rates\n",
    "      return lr\n",
    "  decay_rate = 0.99  # Learning rate decay rate\n",
    "  return lr * decay_rate**epoch\n",
    "\n",
    "learning_rate_scheduler = tf.keras.callbacks.LearningRateScheduler(lr_schedule)\n"
   ]
  },
  {
   "cell_type": "markdown",
   "id": "54df0ee5",
   "metadata": {
    "papermill": {
     "duration": 0.018908,
     "end_time": "2024-05-01T20:44:16.561966",
     "exception": false,
     "start_time": "2024-05-01T20:44:16.543058",
     "status": "completed"
    },
    "tags": []
   },
   "source": [
    "# Emotions Recognition"
   ]
  },
  {
   "cell_type": "code",
   "execution_count": 25,
   "id": "d150426b",
   "metadata": {
    "collapsed": false,
    "execution": {
     "iopub.execute_input": "2024-05-01T20:44:16.603765Z",
     "iopub.status.busy": "2024-05-01T20:44:16.603275Z",
     "iopub.status.idle": "2024-05-01T20:45:14.267010Z",
     "shell.execute_reply": "2024-05-01T20:45:14.266034Z"
    },
    "papermill": {
     "duration": 57.688249,
     "end_time": "2024-05-01T20:45:14.269604",
     "exception": false,
     "start_time": "2024-05-01T20:44:16.581355",
     "status": "completed"
    },
    "tags": [],
    "ExecuteTime": {
     "end_time": "2024-05-20T13:42:24.104818200Z",
     "start_time": "2024-05-20T13:42:07.173464Z"
    }
   },
   "outputs": [
    {
     "name": "stdout",
     "output_type": "stream",
     "text": [
      "Epoch 1/20\n",
      "43/43 [==============================] - 5s 23ms/step - loss: 1.0769 - accuracy: 0.4439 - val_loss: 0.9495 - val_accuracy: 0.4931 - lr: 0.0010\n",
      "Epoch 2/20\n",
      "43/43 [==============================] - 1s 13ms/step - loss: 0.8608 - accuracy: 0.5827 - val_loss: 0.8314 - val_accuracy: 0.6276 - lr: 9.9000e-04\n",
      "Epoch 3/20\n",
      "43/43 [==============================] - 1s 13ms/step - loss: 0.7693 - accuracy: 0.6470 - val_loss: 0.8265 - val_accuracy: 0.5552 - lr: 9.7030e-04\n",
      "Epoch 4/20\n",
      "43/43 [==============================] - 1s 13ms/step - loss: 0.7092 - accuracy: 0.6684 - val_loss: 0.7434 - val_accuracy: 0.6793 - lr: 9.4148e-04\n",
      "Epoch 5/20\n",
      "43/43 [==============================] - 1s 12ms/step - loss: 0.6564 - accuracy: 0.7134 - val_loss: 0.7067 - val_accuracy: 0.6690 - lr: 9.0438e-04\n",
      "Epoch 6/20\n",
      "43/43 [==============================] - 1s 12ms/step - loss: 0.5770 - accuracy: 0.7496 - val_loss: 0.6774 - val_accuracy: 0.6897 - lr: 8.6006e-04\n",
      "Epoch 7/20\n",
      "43/43 [==============================] - 1s 12ms/step - loss: 0.4985 - accuracy: 0.7843 - val_loss: 0.6526 - val_accuracy: 0.7241 - lr: 8.0973e-04\n",
      "Epoch 8/20\n",
      "43/43 [==============================] - 1s 12ms/step - loss: 0.4456 - accuracy: 0.8080 - val_loss: 0.6193 - val_accuracy: 0.7345 - lr: 7.5472e-04\n",
      "Epoch 9/20\n",
      "43/43 [==============================] - 1s 12ms/step - loss: 0.3959 - accuracy: 0.8323 - val_loss: 0.6128 - val_accuracy: 0.7310 - lr: 6.9641e-04\n",
      "Epoch 10/20\n",
      "43/43 [==============================] - 1s 12ms/step - loss: 0.3528 - accuracy: 0.8582 - val_loss: 0.6789 - val_accuracy: 0.7034 - lr: 6.3619e-04\n",
      "Epoch 11/20\n",
      "43/43 [==============================] - 1s 13ms/step - loss: 0.3068 - accuracy: 0.8767 - val_loss: 0.6651 - val_accuracy: 0.7414 - lr: 5.7535e-04\n",
      "Epoch 12/20\n",
      "43/43 [==============================] - 1s 12ms/step - loss: 0.3186 - accuracy: 0.8671 - val_loss: 0.6234 - val_accuracy: 0.7483 - lr: 5.1514e-04\n",
      "Epoch 13/20\n",
      "43/43 [==============================] - 1s 12ms/step - loss: 0.2476 - accuracy: 0.9062 - val_loss: 0.6792 - val_accuracy: 0.7207 - lr: 4.5661e-04\n",
      "Epoch 14/20\n",
      "43/43 [==============================] - 1s 13ms/step - loss: 0.2253 - accuracy: 0.9143 - val_loss: 0.6339 - val_accuracy: 0.7345 - lr: 4.0068e-04\n",
      "Epoch 15/20\n",
      "43/43 [==============================] - 1s 13ms/step - loss: 0.1850 - accuracy: 0.9335 - val_loss: 0.6823 - val_accuracy: 0.7414 - lr: 3.4809e-04\n",
      "Epoch 16/20\n",
      "43/43 [==============================] - 1s 13ms/step - loss: 0.1769 - accuracy: 0.9394 - val_loss: 0.6667 - val_accuracy: 0.7379 - lr: 2.9938e-04\n",
      "Epoch 17/20\n",
      "43/43 [==============================] - 1s 13ms/step - loss: 0.1469 - accuracy: 0.9549 - val_loss: 0.6918 - val_accuracy: 0.7655 - lr: 2.5491e-04\n",
      "Epoch 18/20\n",
      "43/43 [==============================] - 1s 13ms/step - loss: 0.1412 - accuracy: 0.9520 - val_loss: 0.7251 - val_accuracy: 0.7517 - lr: 2.1487e-04\n",
      "Epoch 19/20\n",
      "43/43 [==============================] - 1s 12ms/step - loss: 0.1263 - accuracy: 0.9579 - val_loss: 0.7177 - val_accuracy: 0.7517 - lr: 1.7932e-04\n",
      "Epoch 20/20\n",
      "43/43 [==============================] - 1s 12ms/step - loss: 0.1131 - accuracy: 0.9631 - val_loss: 0.7113 - val_accuracy: 0.7517 - lr: 1.4814e-04\n"
     ]
    }
   ],
   "source": [
    "with tf.device('/GPU:0'):\n",
    "    CNN_model1D.fit(X_train, y_train, batch_size=32, epochs=20,callbacks=[learning_rate_scheduler], validation_data=(X_val, y_val))"
   ]
  },
  {
   "cell_type": "code",
   "execution_count": 26,
   "id": "9347b294",
   "metadata": {
    "collapsed": false,
    "execution": {
     "iopub.execute_input": "2024-05-01T20:45:14.415699Z",
     "iopub.status.busy": "2024-05-01T20:45:14.415309Z",
     "iopub.status.idle": "2024-05-01T20:45:16.163884Z",
     "shell.execute_reply": "2024-05-01T20:45:16.162741Z"
    },
    "papermill": {
     "duration": 1.824544,
     "end_time": "2024-05-01T20:45:16.166294",
     "exception": false,
     "start_time": "2024-05-01T20:45:14.341750",
     "status": "completed"
    },
    "tags": [],
    "ExecuteTime": {
     "end_time": "2024-05-20T13:42:24.352452900Z",
     "start_time": "2024-05-20T13:42:24.107818200Z"
    }
   },
   "outputs": [
    {
     "name": "stdout",
     "output_type": "stream",
     "text": [
      "10/10 [==============================] - 0s 7ms/step - loss: 0.8990 - accuracy: 0.6873\n",
      "Emotions recognition accuracy : 0.6872852444648743\n"
     ]
    }
   ],
   "source": [
    "emotions_accuracy = CNN_model1D.evaluate(X_test, y_test)\n",
    "print(f'Emotions recognition accuracy : {emotions_accuracy[1]}')"
   ]
  },
  {
   "cell_type": "code",
   "outputs": [
    {
     "name": "stdout",
     "output_type": "stream",
     "text": [
      "10/10 [==============================] - 0s 5ms/step\n"
     ]
    }
   ],
   "source": [
    "y_pred = CNN_model1D.predict(X_test)"
   ],
   "metadata": {
    "collapsed": false,
    "ExecuteTime": {
     "end_time": "2024-05-20T13:42:24.715444200Z",
     "start_time": "2024-05-20T13:42:24.352452900Z"
    }
   },
   "id": "6ef2e9fac9e5b535",
   "execution_count": 27
  },
  {
   "cell_type": "code",
   "outputs": [],
   "source": [
    "y_pred1=np.argmax(y_pred,axis=1)\n",
    "y_test1=np.argmax(np.array(y_test),axis=1)"
   ],
   "metadata": {
    "collapsed": false,
    "ExecuteTime": {
     "end_time": "2024-05-20T13:42:24.725446700Z",
     "start_time": "2024-05-20T13:42:24.708443700Z"
    }
   },
   "id": "8f339e465515e568",
   "execution_count": 28
  },
  {
   "cell_type": "code",
   "outputs": [],
   "source": [
    "from sklearn.metrics import confusion_matrix\n",
    "import seaborn as sns\n"
   ],
   "metadata": {
    "collapsed": false,
    "ExecuteTime": {
     "end_time": "2024-05-20T13:42:24.751452400Z",
     "start_time": "2024-05-20T13:42:24.724447600Z"
    }
   },
   "id": "e3043364519479e",
   "execution_count": 29
  },
  {
   "cell_type": "code",
   "outputs": [
    {
     "data": {
      "text/plain": "<Axes: >"
     },
     "execution_count": 30,
     "metadata": {},
     "output_type": "execute_result"
    },
    {
     "data": {
      "text/plain": "<Figure size 640x480 with 2 Axes>",
      "image/png": "[encoded data removed]"
     },
     "metadata": {},
     "output_type": "display_data"
    }
   ],
   "source": [
    "cf_matrix = confusion_matrix(y_pred1,y_test1)\n",
    "sns.heatmap(cf_matrix, annot=True)"
   ],
   "metadata": {
    "collapsed": false,
    "ExecuteTime": {
     "end_time": "2024-05-20T13:42:25.067584700Z",
     "start_time": "2024-05-20T13:42:24.740451200Z"
    }
   },
   "id": "4e88273cd66e0ac3",
   "execution_count": 30
  },
  {
   "cell_type": "markdown",
   "id": "1e573f9b",
   "metadata": {
    "papermill": {
     "duration": 0.073703,
     "end_time": "2024-05-01T20:45:16.314956",
     "exception": false,
     "start_time": "2024-05-01T20:45:16.241253",
     "status": "completed"
    },
    "tags": []
   },
   "source": [
    "# Gender Recognition"
   ]
  },
  {
   "cell_type": "code",
   "execution_count": 31,
   "id": "972f29d7",
   "metadata": {
    "execution": {
     "iopub.execute_input": "2024-05-01T20:45:16.619672Z",
     "iopub.status.busy": "2024-05-01T20:45:16.619293Z",
     "iopub.status.idle": "2024-05-01T20:45:17.385092Z",
     "shell.execute_reply": "2024-05-01T20:45:17.384237Z"
    },
    "papermill": {
     "duration": 0.842388,
     "end_time": "2024-05-01T20:45:17.387558",
     "exception": false,
     "start_time": "2024-05-01T20:45:16.545170",
     "status": "completed"
    },
    "tags": [],
    "ExecuteTime": {
     "end_time": "2024-05-20T13:42:29.490319800Z",
     "start_time": "2024-05-20T13:42:25.069585Z"
    }
   },
   "outputs": [],
   "source": [
    "X_train, X_holdout, y_train, y_holdout = train_test_split(X, y_genders, test_size=0.3, random_state=42)\n",
    "X_val, X_test, y_val, y_test = train_test_split(X_holdout, y_holdout, test_size=0.5, random_state=42)\n",
    "\n",
    "# with tf.device('/cpu:0'):\n",
    "#     X_train = tf.expand_dims(X_train, axis=-1)\n",
    "#     X_test = tf.expand_dims(X_test, axis=-1)"
   ]
  },
  {
   "cell_type": "code",
   "outputs": [
    {
     "data": {
      "text/plain": "(1354, 1276, 100)"
     },
     "execution_count": 32,
     "metadata": {},
     "output_type": "execute_result"
    }
   ],
   "source": [
    "X_train.shape"
   ],
   "metadata": {
    "collapsed": false,
    "ExecuteTime": {
     "end_time": "2024-05-20T13:42:29.504322100Z",
     "start_time": "2024-05-20T13:42:29.500321200Z"
    }
   },
   "id": "12e0d4013ecb271d",
   "execution_count": 32
  },
  {
   "cell_type": "code",
   "outputs": [],
   "source": [
    "\n",
    "all_layers = CNN_model1D.layers\n",
    "\n",
    "# Extract all layers except the output\n",
    "base_model = tf.keras.Sequential(all_layers[:-1])"
   ],
   "metadata": {
    "collapsed": false,
    "ExecuteTime": {
     "end_time": "2024-05-20T13:42:29.588095700Z",
     "start_time": "2024-05-20T13:42:29.504322100Z"
    }
   },
   "id": "aaeb67fe3dea3423",
   "execution_count": 33
  },
  {
   "cell_type": "code",
   "outputs": [],
   "source": [
    "gender_model = tf.keras.Sequential(base_model.layers)\n",
    "gender_model.add(tf.keras.layers.Dense(units=y_genders.shape[-1], activation='softmax'))"
   ],
   "metadata": {
    "collapsed": false,
    "ExecuteTime": {
     "end_time": "2024-05-20T13:42:29.736749200Z",
     "start_time": "2024-05-20T13:42:29.636917100Z"
    }
   },
   "id": "2e11946f47898c30",
   "execution_count": 34
  },
  {
   "cell_type": "code",
   "execution_count": 35,
   "id": "6e460da5",
   "metadata": {
    "execution": {
     "iopub.execute_input": "2024-05-01T20:45:17.765447Z",
     "iopub.status.busy": "2024-05-01T20:45:17.765042Z",
     "iopub.status.idle": "2024-05-01T20:45:17.775529Z",
     "shell.execute_reply": "2024-05-01T20:45:17.774272Z"
    },
    "papermill": {
     "duration": 0.088845,
     "end_time": "2024-05-01T20:45:17.777596",
     "exception": false,
     "start_time": "2024-05-01T20:45:17.688751",
     "status": "completed"
    },
    "tags": [],
    "ExecuteTime": {
     "end_time": "2024-05-20T13:42:29.804604900Z",
     "start_time": "2024-05-20T13:42:29.737750100Z"
    }
   },
   "outputs": [],
   "source": [
    "gender_model.compile(optimizer=tf.keras.optimizers.Adam(learning_rate=0.001),  # Adjust learning rate as needed\n",
    "                  loss=tf.keras.losses.CategoricalCrossentropy(),\n",
    "                  metrics=['accuracy'])"
   ]
  },
  {
   "cell_type": "code",
   "execution_count": 36,
   "id": "ace9bd8c",
   "metadata": {
    "execution": {
     "iopub.execute_input": "2024-05-01T20:45:17.930963Z",
     "iopub.status.busy": "2024-05-01T20:45:17.930048Z",
     "iopub.status.idle": "2024-05-01T20:45:53.992080Z",
     "shell.execute_reply": "2024-05-01T20:45:53.990988Z"
    },
    "papermill": {
     "duration": 36.140333,
     "end_time": "2024-05-01T20:45:53.994541",
     "exception": false,
     "start_time": "2024-05-01T20:45:17.854208",
     "status": "completed"
    },
    "tags": [],
    "ExecuteTime": {
     "end_time": "2024-05-20T13:42:42.352603Z",
     "start_time": "2024-05-20T13:42:29.806604600Z"
    }
   },
   "outputs": [
    {
     "name": "stdout",
     "output_type": "stream",
     "text": [
      "Epoch 1/20\n",
      "43/43 [==============================] - 1s 19ms/step - loss: 0.4713 - accuracy: 0.7866 - val_loss: 0.1888 - val_accuracy: 0.9552 - lr: 0.0010\n",
      "Epoch 2/20\n",
      "43/43 [==============================] - 1s 12ms/step - loss: 0.1291 - accuracy: 0.9505 - val_loss: 0.0685 - val_accuracy: 0.9724 - lr: 9.9000e-04\n",
      "Epoch 3/20\n",
      "43/43 [==============================] - 1s 14ms/step - loss: 0.0498 - accuracy: 0.9852 - val_loss: 0.0611 - val_accuracy: 0.9759 - lr: 9.7030e-04\n",
      "Epoch 4/20\n",
      "43/43 [==============================] - 1s 13ms/step - loss: 0.0401 - accuracy: 0.9838 - val_loss: 0.0607 - val_accuracy: 0.9759 - lr: 9.4148e-04\n",
      "Epoch 5/20\n",
      "43/43 [==============================] - 1s 12ms/step - loss: 0.0426 - accuracy: 0.9793 - val_loss: 0.0205 - val_accuracy: 0.9966 - lr: 9.0438e-04\n",
      "Epoch 6/20\n",
      "43/43 [==============================] - 1s 12ms/step - loss: 0.0162 - accuracy: 0.9941 - val_loss: 0.0218 - val_accuracy: 0.9931 - lr: 8.6006e-04\n",
      "Epoch 7/20\n",
      "43/43 [==============================] - 1s 12ms/step - loss: 0.0060 - accuracy: 0.9993 - val_loss: 0.0118 - val_accuracy: 0.9931 - lr: 8.0973e-04\n",
      "Epoch 8/20\n",
      "43/43 [==============================] - 1s 12ms/step - loss: 0.0039 - accuracy: 0.9985 - val_loss: 0.0254 - val_accuracy: 0.9931 - lr: 7.5472e-04\n",
      "Epoch 9/20\n",
      "43/43 [==============================] - 1s 13ms/step - loss: 0.0097 - accuracy: 0.9970 - val_loss: 0.0536 - val_accuracy: 0.9793 - lr: 6.9641e-04\n",
      "Epoch 10/20\n",
      "43/43 [==============================] - 1s 13ms/step - loss: 0.0101 - accuracy: 0.9963 - val_loss: 0.0073 - val_accuracy: 0.9966 - lr: 6.3619e-04\n",
      "Epoch 11/20\n",
      "43/43 [==============================] - 1s 12ms/step - loss: 0.0016 - accuracy: 1.0000 - val_loss: 0.0062 - val_accuracy: 0.9966 - lr: 5.7535e-04\n",
      "Epoch 12/20\n",
      "43/43 [==============================] - 1s 14ms/step - loss: 0.0090 - accuracy: 0.9956 - val_loss: 0.0040 - val_accuracy: 1.0000 - lr: 5.1514e-04\n",
      "Epoch 13/20\n",
      "43/43 [==============================] - 1s 12ms/step - loss: 0.0020 - accuracy: 1.0000 - val_loss: 0.0038 - val_accuracy: 1.0000 - lr: 4.5661e-04\n",
      "Epoch 14/20\n",
      "43/43 [==============================] - 1s 13ms/step - loss: 0.0013 - accuracy: 1.0000 - val_loss: 0.0038 - val_accuracy: 1.0000 - lr: 4.0068e-04\n",
      "Epoch 15/20\n",
      "43/43 [==============================] - 1s 12ms/step - loss: 8.1650e-04 - accuracy: 1.0000 - val_loss: 0.0035 - val_accuracy: 1.0000 - lr: 3.4809e-04\n",
      "Epoch 16/20\n",
      "43/43 [==============================] - 1s 12ms/step - loss: 9.4152e-04 - accuracy: 1.0000 - val_loss: 0.0028 - val_accuracy: 1.0000 - lr: 2.9938e-04\n",
      "Epoch 17/20\n",
      "43/43 [==============================] - 1s 12ms/step - loss: 4.9370e-04 - accuracy: 1.0000 - val_loss: 0.0042 - val_accuracy: 0.9966 - lr: 2.5491e-04\n",
      "Epoch 18/20\n",
      "43/43 [==============================] - 1s 12ms/step - loss: 6.1877e-04 - accuracy: 1.0000 - val_loss: 0.0038 - val_accuracy: 1.0000 - lr: 2.1487e-04\n",
      "Epoch 19/20\n",
      "43/43 [==============================] - 1s 12ms/step - loss: 5.4019e-04 - accuracy: 1.0000 - val_loss: 0.0044 - val_accuracy: 0.9966 - lr: 1.7932e-04\n",
      "Epoch 20/20\n",
      "43/43 [==============================] - 1s 12ms/step - loss: 4.3610e-04 - accuracy: 1.0000 - val_loss: 0.0040 - val_accuracy: 0.9966 - lr: 1.4814e-04\n"
     ]
    },
    {
     "data": {
      "text/plain": "<keras.callbacks.History at 0x24d02797670>"
     },
     "execution_count": 36,
     "metadata": {},
     "output_type": "execute_result"
    }
   ],
   "source": [
    "gender_model.fit(X_train, y_train, batch_size=32, epochs=20,callbacks=[learning_rate_scheduler], validation_data=(X_val, y_val))"
   ]
  },
  {
   "cell_type": "code",
   "execution_count": 37,
   "id": "7029b3dc",
   "metadata": {
    "execution": {
     "iopub.execute_input": "2024-05-01T20:45:54.205917Z",
     "iopub.status.busy": "2024-05-01T20:45:54.205502Z",
     "iopub.status.idle": "2024-05-01T20:45:55.274080Z",
     "shell.execute_reply": "2024-05-01T20:45:55.272850Z"
    },
    "papermill": {
     "duration": 1.174865,
     "end_time": "2024-05-01T20:45:55.276253",
     "exception": false,
     "start_time": "2024-05-01T20:45:54.101388",
     "status": "completed"
    },
    "tags": [],
    "ExecuteTime": {
     "end_time": "2024-05-20T13:42:42.608694800Z",
     "start_time": "2024-05-20T13:42:42.356603800Z"
    }
   },
   "outputs": [
    {
     "name": "stdout",
     "output_type": "stream",
     "text": [
      "10/10 [==============================] - 0s 5ms/step - loss: 0.0716 - accuracy: 0.9828\n",
      "Geneder recognition accuracy : 0.9828178882598877\n"
     ]
    }
   ],
   "source": [
    "gender_accuracy = gender_model.evaluate(X_test, y_test)\n",
    "print(f'Geneder recognition accuracy : {gender_accuracy[1]}')"
   ]
  },
  {
   "cell_type": "code",
   "outputs": [
    {
     "name": "stdout",
     "output_type": "stream",
     "text": [
      "10/10 [==============================] - 0s 5ms/step\n"
     ]
    }
   ],
   "source": [
    "y_pred = gender_model.predict(X_test)"
   ],
   "metadata": {
    "collapsed": false,
    "ExecuteTime": {
     "end_time": "2024-05-20T13:42:42.928358100Z",
     "start_time": "2024-05-20T13:42:42.597755300Z"
    }
   },
   "id": "e9eefa66f220d18b",
   "execution_count": 38
  },
  {
   "cell_type": "code",
   "outputs": [],
   "source": [
    "y_pred1=np.argmax(y_pred,axis=1)\n",
    "y_test1=np.argmax(np.array(y_test),axis=1)"
   ],
   "metadata": {
    "collapsed": false,
    "ExecuteTime": {
     "end_time": "2024-05-20T13:42:42.962380400Z",
     "start_time": "2024-05-20T13:42:42.929358300Z"
    }
   },
   "id": "4ce68c3366b32832",
   "execution_count": 39
  },
  {
   "cell_type": "code",
   "outputs": [
    {
     "data": {
      "text/plain": "<Axes: >"
     },
     "execution_count": 40,
     "metadata": {},
     "output_type": "execute_result"
    },
    {
     "data": {
      "text/plain": "<Figure size 640x480 with 2 Axes>",
      "image/png": "[encoded data removed]"
     },
     "metadata": {},
     "output_type": "display_data"
    }
   ],
   "source": [
    "cf_matrix = confusion_matrix(y_pred1,y_test1)\n",
    "sns.heatmap(cf_matrix, annot=True)"
   ],
   "metadata": {
    "collapsed": false,
    "ExecuteTime": {
     "end_time": "2024-05-20T13:42:43.122440300Z",
     "start_time": "2024-05-20T13:42:42.951036600Z"
    }
   },
   "id": "a65d004b766a5981",
   "execution_count": 40
  },
  {
   "cell_type": "markdown",
   "id": "3c9d5cfc",
   "metadata": {
    "papermill": {
     "duration": 0.105151,
     "end_time": "2024-05-01T20:45:55.489785",
     "exception": false,
     "start_time": "2024-05-01T20:45:55.384634",
     "status": "completed"
    },
    "tags": []
   },
   "source": [
    "# Words Recognition"
   ]
  },
  {
   "cell_type": "code",
   "execution_count": 41,
   "id": "068a7eeb",
   "metadata": {
    "execution": {
     "iopub.execute_input": "2024-05-01T20:45:55.912040Z",
     "iopub.status.busy": "2024-05-01T20:45:55.911138Z",
     "iopub.status.idle": "2024-05-01T20:45:56.679083Z",
     "shell.execute_reply": "2024-05-01T20:45:56.678116Z"
    },
    "papermill": {
     "duration": 0.873342,
     "end_time": "2024-05-01T20:45:56.681647",
     "exception": false,
     "start_time": "2024-05-01T20:45:55.808305",
     "status": "completed"
    },
    "tags": [],
    "ExecuteTime": {
     "end_time": "2024-05-20T13:42:46.519909100Z",
     "start_time": "2024-05-20T13:42:43.124441100Z"
    }
   },
   "outputs": [],
   "source": [
    "X_train, X_holdout, y_train, y_holdout = train_test_split(X, y_words, test_size=0.3, random_state=42)\n",
    "X_val, X_test, y_val, y_test = train_test_split(X_holdout, y_holdout, test_size=0.5, random_state=42)\n"
   ]
  },
  {
   "cell_type": "code",
   "outputs": [],
   "source": [
    "words_model = tf.keras.Sequential(base_model.layers)\n",
    "words_model.add(tf.keras.layers.Dense(units=y_words.shape[-1], activation='softmax'))"
   ],
   "metadata": {
    "collapsed": false,
    "ExecuteTime": {
     "end_time": "2024-05-20T13:42:46.606801300Z",
     "start_time": "2024-05-20T13:42:46.519909100Z"
    }
   },
   "id": "86c4904bef5e4c0b",
   "execution_count": 42
  },
  {
   "cell_type": "code",
   "execution_count": 43,
   "id": "9886b46b",
   "metadata": {
    "execution": {
     "iopub.execute_input": "2024-05-01T20:45:57.176605Z",
     "iopub.status.busy": "2024-05-01T20:45:57.175794Z",
     "iopub.status.idle": "2024-05-01T20:45:57.186058Z",
     "shell.execute_reply": "2024-05-01T20:45:57.185135Z"
    },
    "papermill": {
     "duration": 0.119986,
     "end_time": "2024-05-01T20:45:57.188467",
     "exception": false,
     "start_time": "2024-05-01T20:45:57.068481",
     "status": "completed"
    },
    "tags": [],
    "ExecuteTime": {
     "end_time": "2024-05-20T13:42:46.655181700Z",
     "start_time": "2024-05-20T13:42:46.609390Z"
    }
   },
   "outputs": [],
   "source": [
    "words_model.compile(optimizer=tf.keras.optimizers.Adam(learning_rate=0.001),  # Adjust learning rate as needed\n",
    "                  loss=tf.keras.losses.CategoricalCrossentropy(),\n",
    "                  metrics=['accuracy'])"
   ]
  },
  {
   "cell_type": "code",
   "execution_count": 44,
   "id": "78f451b5",
   "metadata": {
    "execution": {
     "iopub.execute_input": "2024-05-01T20:45:57.407280Z",
     "iopub.status.busy": "2024-05-01T20:45:57.406344Z",
     "iopub.status.idle": "2024-05-01T20:46:34.536541Z",
     "shell.execute_reply": "2024-05-01T20:46:34.535442Z"
    },
    "papermill": {
     "duration": 37.242075,
     "end_time": "2024-05-01T20:46:34.539026",
     "exception": false,
     "start_time": "2024-05-01T20:45:57.296951",
     "status": "completed"
    },
    "tags": [],
    "ExecuteTime": {
     "end_time": "2024-05-20T13:42:59.635142500Z",
     "start_time": "2024-05-20T13:42:46.639970400Z"
    }
   },
   "outputs": [
    {
     "name": "stdout",
     "output_type": "stream",
     "text": [
      "Epoch 1/20\n",
      "43/43 [==============================] - 2s 24ms/step - loss: 1.9026 - accuracy: 0.2792 - val_loss: 1.3776 - val_accuracy: 0.4621 - lr: 0.0010\n",
      "Epoch 2/20\n",
      "43/43 [==============================] - 1s 12ms/step - loss: 1.1433 - accuracy: 0.5606 - val_loss: 0.8847 - val_accuracy: 0.7000 - lr: 9.9000e-04\n",
      "Epoch 3/20\n",
      "43/43 [==============================] - 1s 29ms/step - loss: 0.7873 - accuracy: 0.7171 - val_loss: 0.6549 - val_accuracy: 0.8172 - lr: 9.7030e-04\n",
      "Epoch 4/20\n",
      "43/43 [==============================] - 1s 12ms/step - loss: 0.5540 - accuracy: 0.7947 - val_loss: 0.5311 - val_accuracy: 0.8379 - lr: 9.4148e-04\n",
      "Epoch 5/20\n",
      "43/43 [==============================] - 1s 12ms/step - loss: 0.4361 - accuracy: 0.8516 - val_loss: 0.4554 - val_accuracy: 0.8517 - lr: 9.0438e-04\n",
      "Epoch 6/20\n",
      "43/43 [==============================] - 1s 12ms/step - loss: 0.3050 - accuracy: 0.8951 - val_loss: 0.4943 - val_accuracy: 0.8655 - lr: 8.6006e-04\n",
      "Epoch 7/20\n",
      "43/43 [==============================] - 1s 12ms/step - loss: 0.2365 - accuracy: 0.9232 - val_loss: 0.4510 - val_accuracy: 0.8690 - lr: 8.0973e-04\n",
      "Epoch 8/20\n",
      "43/43 [==============================] - 1s 12ms/step - loss: 0.1682 - accuracy: 0.9409 - val_loss: 0.4806 - val_accuracy: 0.8862 - lr: 7.5472e-04\n",
      "Epoch 9/20\n",
      "43/43 [==============================] - 1s 12ms/step - loss: 0.1384 - accuracy: 0.9586 - val_loss: 0.4722 - val_accuracy: 0.8793 - lr: 6.9641e-04\n",
      "Epoch 10/20\n",
      "43/43 [==============================] - 1s 12ms/step - loss: 0.0902 - accuracy: 0.9742 - val_loss: 0.4770 - val_accuracy: 0.9034 - lr: 6.3619e-04\n",
      "Epoch 11/20\n",
      "43/43 [==============================] - 1s 12ms/step - loss: 0.0810 - accuracy: 0.9719 - val_loss: 0.4858 - val_accuracy: 0.9000 - lr: 5.7535e-04\n",
      "Epoch 12/20\n",
      "43/43 [==============================] - 1s 12ms/step - loss: 0.0851 - accuracy: 0.9742 - val_loss: 0.5323 - val_accuracy: 0.8897 - lr: 5.1514e-04\n",
      "Epoch 13/20\n",
      "43/43 [==============================] - 1s 12ms/step - loss: 0.0568 - accuracy: 0.9838 - val_loss: 0.4632 - val_accuracy: 0.9000 - lr: 4.5661e-04\n",
      "Epoch 14/20\n",
      "43/43 [==============================] - 1s 13ms/step - loss: 0.0456 - accuracy: 0.9874 - val_loss: 0.4746 - val_accuracy: 0.9000 - lr: 4.0068e-04\n",
      "Epoch 15/20\n",
      "43/43 [==============================] - 1s 12ms/step - loss: 0.0406 - accuracy: 0.9874 - val_loss: 0.5246 - val_accuracy: 0.9000 - lr: 3.4809e-04\n",
      "Epoch 16/20\n",
      "43/43 [==============================] - 0s 11ms/step - loss: 0.0371 - accuracy: 0.9889 - val_loss: 0.5491 - val_accuracy: 0.8862 - lr: 2.9938e-04\n",
      "Epoch 17/20\n",
      "43/43 [==============================] - 0s 12ms/step - loss: 0.0467 - accuracy: 0.9882 - val_loss: 0.5468 - val_accuracy: 0.9000 - lr: 2.5491e-04\n",
      "Epoch 18/20\n",
      "43/43 [==============================] - 0s 12ms/step - loss: 0.0375 - accuracy: 0.9919 - val_loss: 0.5200 - val_accuracy: 0.8966 - lr: 2.1487e-04\n",
      "Epoch 19/20\n",
      "43/43 [==============================] - 1s 13ms/step - loss: 0.0240 - accuracy: 0.9948 - val_loss: 0.5236 - val_accuracy: 0.8966 - lr: 1.7932e-04\n",
      "Epoch 20/20\n",
      "43/43 [==============================] - 1s 12ms/step - loss: 0.0243 - accuracy: 0.9948 - val_loss: 0.5360 - val_accuracy: 0.9034 - lr: 1.4814e-04\n"
     ]
    },
    {
     "data": {
      "text/plain": "<keras.callbacks.History at 0x24c6bc70f70>"
     },
     "execution_count": 44,
     "metadata": {},
     "output_type": "execute_result"
    }
   ],
   "source": [
    "# with tf.device('/GPU:0'):\n",
    "words_model.fit(X_train, y_train, batch_size=32, epochs=20,callbacks=[learning_rate_scheduler], validation_data=(X_val, y_val))"
   ]
  },
  {
   "cell_type": "code",
   "execution_count": 45,
   "id": "4014e97f",
   "metadata": {
    "execution": {
     "iopub.execute_input": "2024-05-01T20:46:34.790702Z",
     "iopub.status.busy": "2024-05-01T20:46:34.789776Z",
     "iopub.status.idle": "2024-05-01T20:46:36.411644Z",
     "shell.execute_reply": "2024-05-01T20:46:36.410388Z"
    },
    "papermill": {
     "duration": 1.750184,
     "end_time": "2024-05-01T20:46:36.413883",
     "exception": false,
     "start_time": "2024-05-01T20:46:34.663699",
     "status": "completed"
    },
    "tags": [],
    "ExecuteTime": {
     "end_time": "2024-05-20T13:42:59.878212Z",
     "start_time": "2024-05-20T13:42:59.638143100Z"
    }
   },
   "outputs": [
    {
     "name": "stdout",
     "output_type": "stream",
     "text": [
      "10/10 [==============================] - 0s 6ms/step - loss: 0.5876 - accuracy: 0.8900\n",
      "Words recognition accuracy : 0.8900343775749207\n"
     ]
    }
   ],
   "source": [
    "words_accuracy = words_model.evaluate(X_test, y_test)\n",
    "print(f'Words recognition accuracy : {words_accuracy[1]}')"
   ]
  },
  {
   "cell_type": "code",
   "outputs": [
    {
     "name": "stdout",
     "output_type": "stream",
     "text": [
      "10/10 [==============================] - 0s 5ms/step\n"
     ]
    }
   ],
   "source": [
    "y_pred = words_model.predict(X_test)"
   ],
   "metadata": {
    "collapsed": false,
    "ExecuteTime": {
     "end_time": "2024-05-20T13:43:00.136657Z",
     "start_time": "2024-05-20T13:42:59.872210800Z"
    }
   },
   "id": "abae663b5b4cf021",
   "execution_count": 46
  },
  {
   "cell_type": "code",
   "outputs": [],
   "source": [
    "y_pred1=np.argmax(y_pred,axis=1)\n",
    "y_test1=np.argmax(np.array(y_test),axis=1)"
   ],
   "metadata": {
    "collapsed": false,
    "ExecuteTime": {
     "end_time": "2024-05-20T13:43:00.167220300Z",
     "start_time": "2024-05-20T13:43:00.136657Z"
    }
   },
   "id": "648845edc6aecbea",
   "execution_count": 47
  },
  {
   "cell_type": "code",
   "outputs": [
    {
     "data": {
      "text/plain": "<Axes: >"
     },
     "execution_count": 48,
     "metadata": {},
     "output_type": "execute_result"
    },
    {
     "data": {
      "text/plain": "<Figure size 640x480 with 2 Axes>",
      "image/png": "[encoded data removed]"
     },
     "metadata": {},
     "output_type": "display_data"
    }
   ],
   "source": [
    "cf_matrix = confusion_matrix(y_pred1,y_test1)\n",
    "sns.heatmap(cf_matrix, annot=True)"
   ],
   "metadata": {
    "collapsed": false,
    "ExecuteTime": {
     "end_time": "2024-05-20T13:43:00.437193500Z",
     "start_time": "2024-05-20T13:43:00.157146700Z"
    }
   },
   "id": "2ffb8b73ed868cbd",
   "execution_count": 48
  },
  {
   "cell_type": "code",
   "execution_count": 49,
   "id": "e607afb6",
   "metadata": {
    "collapsed": false,
    "execution": {
     "iopub.execute_input": "2024-05-01T20:46:36.669593Z",
     "iopub.status.busy": "2024-05-01T20:46:36.668744Z",
     "iopub.status.idle": "2024-05-01T20:46:36.673320Z",
     "shell.execute_reply": "2024-05-01T20:46:36.672366Z"
    },
    "papermill": {
     "duration": 0.135895,
     "end_time": "2024-05-01T20:46:36.675338",
     "exception": false,
     "start_time": "2024-05-01T20:46:36.539443",
     "status": "completed"
    },
    "tags": [],
    "ExecuteTime": {
     "end_time": "2024-05-20T13:43:00.454115700Z",
     "start_time": "2024-05-20T13:43:00.437193500Z"
    }
   },
   "outputs": [],
   "source": [
    "# CNN_model1D.save('1DCnnModel--78.69%')"
   ]
  },
  {
   "cell_type": "markdown",
   "id": "e4835c1e",
   "metadata": {
    "papermill": {
     "duration": 0.129918,
     "end_time": "2024-05-01T20:46:36.932524",
     "exception": false,
     "start_time": "2024-05-01T20:46:36.802606",
     "status": "completed"
    },
    "tags": []
   },
   "source": [
    "This is the model that gave me the best results : 78.69% \n",
    "\n",
    "    tf.keras.layers.Conv1D(32, (3), activation='relu', input_shape=( X_train.shape[1],X_train.shape[2]),\n",
    "                           kernel_regularizer=tf.keras.regularizers.L2(1e-6)),  # Input layer with channel dimension\n",
    "    tf.keras.layers.MaxPooling1D((2)),\n",
    "    tf.keras.layers.Conv1D(64, (3), activation='relu',kernel_regularizer=tf.keras.regularizers.L2(1e-6)),  # Input layer with channel dimension\n",
    "    tf.keras.layers.MaxPooling1D((2)),\n",
    "    tf.keras.layers.Dropout(0.3),\n",
    "    tf.keras.layers.Conv1D(128, (3), activation='relu',kernel_regularizer=tf.keras.regularizers.L2(1e-6)),  # Input layer with channel dimension\n",
    "    tf.keras.layers.MaxPooling1D((2)),\n",
    "    tf.keras.layers.Dropout(0.3),\n",
    "\n",
    "    tf.keras.layers.Flatten(),  # Flatten before dense layers\n",
    "    tf.keras.layers.Dense(512, activation='relu'),\n",
    "    tf.keras.layers.Dropout(0.3),\n",
    "    tf.keras.layers.Dense(units=y_emotions.shape[1], activation='softmax')"
   ]
  },
  {
   "cell_type": "code",
   "execution_count": 50,
   "id": "a18d5a0c",
   "metadata": {
    "collapsed": false,
    "execution": {
     "iopub.execute_input": "2024-05-01T20:46:37.188158Z",
     "iopub.status.busy": "2024-05-01T20:46:37.187754Z",
     "iopub.status.idle": "2024-05-01T20:46:37.705863Z",
     "shell.execute_reply": "2024-05-01T20:46:37.704880Z"
    },
    "papermill": {
     "duration": 0.653153,
     "end_time": "2024-05-01T20:46:37.711716",
     "exception": false,
     "start_time": "2024-05-01T20:46:37.058563",
     "status": "completed"
    },
    "tags": [],
    "ExecuteTime": {
     "end_time": "2024-05-20T13:43:00.802333400Z",
     "start_time": "2024-05-20T13:43:00.454115700Z"
    }
   },
   "outputs": [
    {
     "data": {
      "image/png": "[encoded data removed]",
      "text/plain": "<IPython.core.display.Image object>"
     },
     "execution_count": 50,
     "metadata": {},
     "output_type": "execute_result"
    }
   ],
   "source": [
    "from tensorflow.keras.utils import plot_model\n",
    "\n",
    "plot_model(CNN_model1D, show_shapes=True, show_layer_names=True, show_dtype=True)"
   ]
  }
 ],
 "metadata": {
  "kaggle": {
   "accelerator": "gpu",
   "dataSources": [
    {
     "datasetId": 345828,
     "sourceId": 931766,
     "sourceType": "datasetVersion"
    },
    {
     "datasetId": 4917319,
     "sourceId": 8280204,
     "sourceType": "datasetVersion"
    }
   ],
   "dockerImageVersionId": 30698,
   "isGpuEnabled": true,
   "isInternetEnabled": true,
   "language": "python",
   "sourceType": "notebook"
  },
  "kernelspec": {
   "display_name": "Python 3",
   "language": "python",
   "name": "python3"
  },
  "language_info": {
   "codemirror_mode": {
    "name": "ipython",
    "version": 3
   },
   "file_extension": ".py",
   "mimetype": "text/x-python",
   "name": "python",
   "nbconvert_exporter": "python",
   "pygments_lexer": "ipython3",
   "version": "3.10.13"
  },
  "papermill": {
   "default_parameters": {},
   "duration": 244.495567,
   "end_time": "2024-05-01T20:46:41.331892",
   "environment_variables": {},
   "exception": null,
   "input_path": "__notebook__.ipynb",
   "output_path": "__notebook__.ipynb",
   "parameters": {},
   "start_time": "2024-05-01T20:42:36.836325",
   "version": "2.5.0"
  }
 },
 "nbformat": 4,
 "nbformat_minor": 5
}
